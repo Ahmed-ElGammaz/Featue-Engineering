{
  "nbformat": 4,
  "nbformat_minor": 0,
  "metadata": {
    "colab": {
      "name": "kiva_case_study_v_01_12112021.ipynb",
      "provenance": [],
      "mount_file_id": "10JB1KbPqX9zDNpU4zSRQQFD7hPEscnG-",
      "authorship_tag": "ABX9TyPCTL5qpmOo+zTEjKOItrnK",
      "include_colab_link": true
    },
    "kernelspec": {
      "name": "python3",
      "display_name": "Python 3"
    },
    "language_info": {
      "name": "python"
    }
  },
  "cells": [
    {
      "cell_type": "markdown",
      "metadata": {
        "id": "view-in-github",
        "colab_type": "text"
      },
      "source": [
        "<a href=\"https://colab.research.google.com/github/Ahmed-ElGammaz/Featue-Engineering-Case_Study/blob/main/kiva_case_study_v_01_12112021.ipynb\" target=\"_parent\"><img src=\"https://colab.research.google.com/assets/colab-badge.svg\" alt=\"Open In Colab\"/></a>"
      ]
    },
    {
      "cell_type": "code",
      "metadata": {
        "id": "S9e2G0FwMat4"
      },
      "source": [
        "import numpy as np\n",
        "import pandas as pd\n",
        "import matplotlib.pyplot as plt\n",
        "import seaborn as sns\n",
        "%matplotlib inline\n",
        "sns.set()"
      ],
      "execution_count": 1,
      "outputs": []
    },
    {
      "cell_type": "code",
      "metadata": {
        "colab": {
          "base_uri": "https://localhost:8080/",
          "height": 581
        },
        "id": "WMwQ4S9EN5IK",
        "outputId": "952cc9a1-8895-460c-cd0e-f438cda51093"
      },
      "source": [
        "df_kiva = pd.read_csv(\"/content/drive/MyDrive/Colab Notebooks/data_sets/kiva_loans.csv\")\n",
        "df_kiva.head()"
      ],
      "execution_count": 16,
      "outputs": [
        {
          "output_type": "execute_result",
          "data": {
            "text/html": [
              "<div>\n",
              "<style scoped>\n",
              "    .dataframe tbody tr th:only-of-type {\n",
              "        vertical-align: middle;\n",
              "    }\n",
              "\n",
              "    .dataframe tbody tr th {\n",
              "        vertical-align: top;\n",
              "    }\n",
              "\n",
              "    .dataframe thead th {\n",
              "        text-align: right;\n",
              "    }\n",
              "</style>\n",
              "<table border=\"1\" class=\"dataframe\">\n",
              "  <thead>\n",
              "    <tr style=\"text-align: right;\">\n",
              "      <th></th>\n",
              "      <th>id</th>\n",
              "      <th>funded_amount</th>\n",
              "      <th>loan_amount</th>\n",
              "      <th>activity</th>\n",
              "      <th>sector</th>\n",
              "      <th>use</th>\n",
              "      <th>country_code</th>\n",
              "      <th>country</th>\n",
              "      <th>region</th>\n",
              "      <th>currency</th>\n",
              "      <th>partner_id</th>\n",
              "      <th>posted_time</th>\n",
              "      <th>disbursed_time</th>\n",
              "      <th>funded_time</th>\n",
              "      <th>term_in_months</th>\n",
              "      <th>lender_count</th>\n",
              "      <th>tags</th>\n",
              "      <th>borrower_genders</th>\n",
              "      <th>repayment_interval</th>\n",
              "      <th>date</th>\n",
              "    </tr>\n",
              "  </thead>\n",
              "  <tbody>\n",
              "    <tr>\n",
              "      <th>0</th>\n",
              "      <td>653051</td>\n",
              "      <td>300.0</td>\n",
              "      <td>300.0</td>\n",
              "      <td>Fruits &amp; Vegetables</td>\n",
              "      <td>Food</td>\n",
              "      <td>To buy seasonal, fresh fruits to sell.</td>\n",
              "      <td>PK</td>\n",
              "      <td>Pakistan</td>\n",
              "      <td>Lahore</td>\n",
              "      <td>PKR</td>\n",
              "      <td>247.0</td>\n",
              "      <td>2014-01-01 06:12:39+00:00</td>\n",
              "      <td>2013-12-17 08:00:00+00:00</td>\n",
              "      <td>2014-01-02 10:06:32+00:00</td>\n",
              "      <td>12.0</td>\n",
              "      <td>12</td>\n",
              "      <td>NaN</td>\n",
              "      <td>female</td>\n",
              "      <td>irregular</td>\n",
              "      <td>2014-01-01</td>\n",
              "    </tr>\n",
              "    <tr>\n",
              "      <th>1</th>\n",
              "      <td>653053</td>\n",
              "      <td>575.0</td>\n",
              "      <td>575.0</td>\n",
              "      <td>Rickshaw</td>\n",
              "      <td>Transportation</td>\n",
              "      <td>to repair and maintain the auto rickshaw used ...</td>\n",
              "      <td>PK</td>\n",
              "      <td>Pakistan</td>\n",
              "      <td>Lahore</td>\n",
              "      <td>PKR</td>\n",
              "      <td>247.0</td>\n",
              "      <td>2014-01-01 06:51:08+00:00</td>\n",
              "      <td>2013-12-17 08:00:00+00:00</td>\n",
              "      <td>2014-01-02 09:17:23+00:00</td>\n",
              "      <td>11.0</td>\n",
              "      <td>14</td>\n",
              "      <td>NaN</td>\n",
              "      <td>female, female</td>\n",
              "      <td>irregular</td>\n",
              "      <td>2014-01-01</td>\n",
              "    </tr>\n",
              "    <tr>\n",
              "      <th>2</th>\n",
              "      <td>653068</td>\n",
              "      <td>150.0</td>\n",
              "      <td>150.0</td>\n",
              "      <td>Transportation</td>\n",
              "      <td>Transportation</td>\n",
              "      <td>To repair their old cycle-van and buy another ...</td>\n",
              "      <td>IN</td>\n",
              "      <td>India</td>\n",
              "      <td>Maynaguri</td>\n",
              "      <td>INR</td>\n",
              "      <td>334.0</td>\n",
              "      <td>2014-01-01 09:58:07+00:00</td>\n",
              "      <td>2013-12-17 08:00:00+00:00</td>\n",
              "      <td>2014-01-01 16:01:36+00:00</td>\n",
              "      <td>43.0</td>\n",
              "      <td>6</td>\n",
              "      <td>user_favorite, user_favorite</td>\n",
              "      <td>female</td>\n",
              "      <td>bullet</td>\n",
              "      <td>2014-01-01</td>\n",
              "    </tr>\n",
              "    <tr>\n",
              "      <th>3</th>\n",
              "      <td>653063</td>\n",
              "      <td>200.0</td>\n",
              "      <td>200.0</td>\n",
              "      <td>Embroidery</td>\n",
              "      <td>Arts</td>\n",
              "      <td>to purchase an embroidery machine and a variet...</td>\n",
              "      <td>PK</td>\n",
              "      <td>Pakistan</td>\n",
              "      <td>Lahore</td>\n",
              "      <td>PKR</td>\n",
              "      <td>247.0</td>\n",
              "      <td>2014-01-01 08:03:11+00:00</td>\n",
              "      <td>2013-12-24 08:00:00+00:00</td>\n",
              "      <td>2014-01-01 13:00:00+00:00</td>\n",
              "      <td>11.0</td>\n",
              "      <td>8</td>\n",
              "      <td>NaN</td>\n",
              "      <td>female</td>\n",
              "      <td>irregular</td>\n",
              "      <td>2014-01-01</td>\n",
              "    </tr>\n",
              "    <tr>\n",
              "      <th>4</th>\n",
              "      <td>653084</td>\n",
              "      <td>400.0</td>\n",
              "      <td>400.0</td>\n",
              "      <td>Milk Sales</td>\n",
              "      <td>Food</td>\n",
              "      <td>to purchase one buffalo.</td>\n",
              "      <td>PK</td>\n",
              "      <td>Pakistan</td>\n",
              "      <td>Abdul Hakeem</td>\n",
              "      <td>PKR</td>\n",
              "      <td>245.0</td>\n",
              "      <td>2014-01-01 11:53:19+00:00</td>\n",
              "      <td>2013-12-17 08:00:00+00:00</td>\n",
              "      <td>2014-01-01 19:18:51+00:00</td>\n",
              "      <td>14.0</td>\n",
              "      <td>16</td>\n",
              "      <td>NaN</td>\n",
              "      <td>female</td>\n",
              "      <td>monthly</td>\n",
              "      <td>2014-01-01</td>\n",
              "    </tr>\n",
              "  </tbody>\n",
              "</table>\n",
              "</div>"
            ],
            "text/plain": [
              "       id  funded_amount  ...  repayment_interval        date\n",
              "0  653051          300.0  ...           irregular  2014-01-01\n",
              "1  653053          575.0  ...           irregular  2014-01-01\n",
              "2  653068          150.0  ...              bullet  2014-01-01\n",
              "3  653063          200.0  ...           irregular  2014-01-01\n",
              "4  653084          400.0  ...             monthly  2014-01-01\n",
              "\n",
              "[5 rows x 20 columns]"
            ]
          },
          "metadata": {},
          "execution_count": 16
        }
      ]
    },
    {
      "cell_type": "code",
      "metadata": {
        "colab": {
          "base_uri": "https://localhost:8080/"
        },
        "id": "CP9VbymrN5GC",
        "outputId": "0219d8a6-779f-49c8-8089-4f88a64b784f"
      },
      "source": [
        "df_kiva.info()"
      ],
      "execution_count": 3,
      "outputs": [
        {
          "output_type": "stream",
          "name": "stdout",
          "text": [
            "<class 'pandas.core.frame.DataFrame'>\n",
            "RangeIndex: 671205 entries, 0 to 671204\n",
            "Data columns (total 20 columns):\n",
            " #   Column              Non-Null Count   Dtype  \n",
            "---  ------              --------------   -----  \n",
            " 0   id                  671205 non-null  int64  \n",
            " 1   funded_amount       671205 non-null  float64\n",
            " 2   loan_amount         671205 non-null  float64\n",
            " 3   activity            671205 non-null  object \n",
            " 4   sector              671205 non-null  object \n",
            " 5   use                 666973 non-null  object \n",
            " 6   country_code        671197 non-null  object \n",
            " 7   country             671205 non-null  object \n",
            " 8   region              614405 non-null  object \n",
            " 9   currency            671205 non-null  object \n",
            " 10  partner_id          657698 non-null  float64\n",
            " 11  posted_time         671205 non-null  object \n",
            " 12  disbursed_time      668809 non-null  object \n",
            " 13  funded_time         622874 non-null  object \n",
            " 14  term_in_months      671205 non-null  float64\n",
            " 15  lender_count        671205 non-null  int64  \n",
            " 16  tags                499789 non-null  object \n",
            " 17  borrower_genders    666984 non-null  object \n",
            " 18  repayment_interval  671205 non-null  object \n",
            " 19  date                671205 non-null  object \n",
            "dtypes: float64(4), int64(2), object(14)\n",
            "memory usage: 102.4+ MB\n"
          ]
        }
      ]
    },
    {
      "cell_type": "code",
      "metadata": {
        "colab": {
          "base_uri": "https://localhost:8080/",
          "height": 297
        },
        "id": "ss2S5LBQN5EW",
        "outputId": "7e68df70-c252-4617-d838-9ffbba5e6bbf"
      },
      "source": [
        "df_kiva.describe().round()"
      ],
      "execution_count": 5,
      "outputs": [
        {
          "output_type": "execute_result",
          "data": {
            "text/html": [
              "<div>\n",
              "<style scoped>\n",
              "    .dataframe tbody tr th:only-of-type {\n",
              "        vertical-align: middle;\n",
              "    }\n",
              "\n",
              "    .dataframe tbody tr th {\n",
              "        vertical-align: top;\n",
              "    }\n",
              "\n",
              "    .dataframe thead th {\n",
              "        text-align: right;\n",
              "    }\n",
              "</style>\n",
              "<table border=\"1\" class=\"dataframe\">\n",
              "  <thead>\n",
              "    <tr style=\"text-align: right;\">\n",
              "      <th></th>\n",
              "      <th>id</th>\n",
              "      <th>funded_amount</th>\n",
              "      <th>loan_amount</th>\n",
              "      <th>partner_id</th>\n",
              "      <th>term_in_months</th>\n",
              "      <th>lender_count</th>\n",
              "    </tr>\n",
              "  </thead>\n",
              "  <tbody>\n",
              "    <tr>\n",
              "      <th>count</th>\n",
              "      <td>671205.0</td>\n",
              "      <td>671205.0</td>\n",
              "      <td>671205.0</td>\n",
              "      <td>657698.0</td>\n",
              "      <td>671205.0</td>\n",
              "      <td>671205.0</td>\n",
              "    </tr>\n",
              "    <tr>\n",
              "      <th>mean</th>\n",
              "      <td>993249.0</td>\n",
              "      <td>786.0</td>\n",
              "      <td>842.0</td>\n",
              "      <td>178.0</td>\n",
              "      <td>14.0</td>\n",
              "      <td>21.0</td>\n",
              "    </tr>\n",
              "    <tr>\n",
              "      <th>std</th>\n",
              "      <td>196611.0</td>\n",
              "      <td>1130.0</td>\n",
              "      <td>1199.0</td>\n",
              "      <td>94.0</td>\n",
              "      <td>9.0</td>\n",
              "      <td>28.0</td>\n",
              "    </tr>\n",
              "    <tr>\n",
              "      <th>min</th>\n",
              "      <td>653047.0</td>\n",
              "      <td>0.0</td>\n",
              "      <td>25.0</td>\n",
              "      <td>9.0</td>\n",
              "      <td>1.0</td>\n",
              "      <td>0.0</td>\n",
              "    </tr>\n",
              "    <tr>\n",
              "      <th>25%</th>\n",
              "      <td>823072.0</td>\n",
              "      <td>250.0</td>\n",
              "      <td>275.0</td>\n",
              "      <td>126.0</td>\n",
              "      <td>8.0</td>\n",
              "      <td>7.0</td>\n",
              "    </tr>\n",
              "    <tr>\n",
              "      <th>50%</th>\n",
              "      <td>992780.0</td>\n",
              "      <td>450.0</td>\n",
              "      <td>500.0</td>\n",
              "      <td>145.0</td>\n",
              "      <td>13.0</td>\n",
              "      <td>13.0</td>\n",
              "    </tr>\n",
              "    <tr>\n",
              "      <th>75%</th>\n",
              "      <td>1163653.0</td>\n",
              "      <td>900.0</td>\n",
              "      <td>1000.0</td>\n",
              "      <td>204.0</td>\n",
              "      <td>14.0</td>\n",
              "      <td>24.0</td>\n",
              "    </tr>\n",
              "    <tr>\n",
              "      <th>max</th>\n",
              "      <td>1340339.0</td>\n",
              "      <td>100000.0</td>\n",
              "      <td>100000.0</td>\n",
              "      <td>536.0</td>\n",
              "      <td>158.0</td>\n",
              "      <td>2986.0</td>\n",
              "    </tr>\n",
              "  </tbody>\n",
              "</table>\n",
              "</div>"
            ],
            "text/plain": [
              "              id  funded_amount  ...  term_in_months  lender_count\n",
              "count   671205.0       671205.0  ...        671205.0      671205.0\n",
              "mean    993249.0          786.0  ...            14.0          21.0\n",
              "std     196611.0         1130.0  ...             9.0          28.0\n",
              "min     653047.0            0.0  ...             1.0           0.0\n",
              "25%     823072.0          250.0  ...             8.0           7.0\n",
              "50%     992780.0          450.0  ...            13.0          13.0\n",
              "75%    1163653.0          900.0  ...            14.0          24.0\n",
              "max    1340339.0       100000.0  ...           158.0        2986.0\n",
              "\n",
              "[8 rows x 6 columns]"
            ]
          },
          "metadata": {},
          "execution_count": 5
        }
      ]
    },
    {
      "cell_type": "code",
      "metadata": {
        "colab": {
          "base_uri": "https://localhost:8080/"
        },
        "id": "YdYEi5naOkiY",
        "outputId": "fc4019b4-075d-485e-c8b9-3c381388e465"
      },
      "source": [
        "df_kiva.columns"
      ],
      "execution_count": 6,
      "outputs": [
        {
          "output_type": "execute_result",
          "data": {
            "text/plain": [
              "Index(['id', 'funded_amount', 'loan_amount', 'activity', 'sector', 'use',\n",
              "       'country_code', 'country', 'region', 'currency', 'partner_id',\n",
              "       'posted_time', 'disbursed_time', 'funded_time', 'term_in_months',\n",
              "       'lender_count', 'tags', 'borrower_genders', 'repayment_interval',\n",
              "       'date'],\n",
              "      dtype='object')"
            ]
          },
          "metadata": {},
          "execution_count": 6
        }
      ]
    },
    {
      "cell_type": "code",
      "metadata": {
        "colab": {
          "base_uri": "https://localhost:8080/"
        },
        "id": "LOSfgfBXPay8",
        "outputId": "35b5258f-1ffd-476f-f724-13de0d17b076"
      },
      "source": [
        "df_kiva[\"borrower_genders\"].value_counts()"
      ],
      "execution_count": 8,
      "outputs": [
        {
          "output_type": "execute_result",
          "data": {
            "text/plain": [
              "female                                                                                                                                                                                                                                                                                                                                                                        426502\n",
              "male                                                                                                                                                                                                                                                                                                                                                                          134710\n",
              "female, female                                                                                                                                                                                                                                                                                                                                                                 12164\n",
              "female, female, female                                                                                                                                                                                                                                                                                                                                                         11676\n",
              "female, female, female, female                                                                                                                                                                                                                                                                                                                                                  9052\n",
              "                                                                                                                                                                                                                                                                                                                                                                               ...  \n",
              "female, male, male, female, female, male, male, male, female, female, male, female, male, female, female, female, female, female, female, female, female, female, female, male, male, female, male, female, female, female, female, female, male, female, female, male, male, male, female, female, female, male, female, female, male, male, female, female, male, female         1\n",
              "male, female, female, female, female, female, female, female, male, female, female, male, female                                                                                                                                                                                                                                                                                   1\n",
              "male, female, female, female, male, female, male, male, male, male, male                                                                                                                                                                                                                                                                                                           1\n",
              "female, female, female, female, female, male, male, female, female, female, female, female, female, female, female                                                                                                                                                                                                                                                                 1\n",
              "male, male, female, male, male, male, female, male, female, female, female, female, female, female, male, male                                                                                                                                                                                                                                                                     1\n",
              "Name: borrower_genders, Length: 11298, dtype: int64"
            ]
          },
          "metadata": {},
          "execution_count": 8
        }
      ]
    },
    {
      "cell_type": "code",
      "metadata": {
        "id": "5OAbTpBQPast"
      },
      "source": [
        "df_kiva_new = df_kiva[[\"funded_amount\",\"loan_amount\",\"activity\",\"activity\",\"sector\",\"country\",\n",
        "                  \"region\",\"currency\", \"lender_count\", \"borrower_genders\", \"repayment_interval\"]]"
      ],
      "execution_count": 17,
      "outputs": []
    },
    {
      "cell_type": "code",
      "metadata": {
        "colab": {
          "base_uri": "https://localhost:8080/",
          "height": 238
        },
        "id": "Rva6_RryPaos",
        "outputId": "20a91ac8-2441-4b82-9414-9c715d0aa005"
      },
      "source": [
        "df_kiva_new.head()"
      ],
      "execution_count": 25,
      "outputs": [
        {
          "output_type": "execute_result",
          "data": {
            "text/html": [
              "<div>\n",
              "<style scoped>\n",
              "    .dataframe tbody tr th:only-of-type {\n",
              "        vertical-align: middle;\n",
              "    }\n",
              "\n",
              "    .dataframe tbody tr th {\n",
              "        vertical-align: top;\n",
              "    }\n",
              "\n",
              "    .dataframe thead th {\n",
              "        text-align: right;\n",
              "    }\n",
              "</style>\n",
              "<table border=\"1\" class=\"dataframe\">\n",
              "  <thead>\n",
              "    <tr style=\"text-align: right;\">\n",
              "      <th></th>\n",
              "      <th>funded_amount</th>\n",
              "      <th>loan_amount</th>\n",
              "      <th>activity</th>\n",
              "      <th>activity</th>\n",
              "      <th>sector</th>\n",
              "      <th>country</th>\n",
              "      <th>region</th>\n",
              "      <th>currency</th>\n",
              "      <th>lender_count</th>\n",
              "      <th>borrower_genders</th>\n",
              "      <th>repayment_interval</th>\n",
              "    </tr>\n",
              "  </thead>\n",
              "  <tbody>\n",
              "    <tr>\n",
              "      <th>0</th>\n",
              "      <td>300.0</td>\n",
              "      <td>300.0</td>\n",
              "      <td>Fruits &amp; Vegetables</td>\n",
              "      <td>Fruits &amp; Vegetables</td>\n",
              "      <td>Food</td>\n",
              "      <td>Pakistan</td>\n",
              "      <td>Lahore</td>\n",
              "      <td>PKR</td>\n",
              "      <td>12</td>\n",
              "      <td>female</td>\n",
              "      <td>irregular</td>\n",
              "    </tr>\n",
              "    <tr>\n",
              "      <th>1</th>\n",
              "      <td>575.0</td>\n",
              "      <td>575.0</td>\n",
              "      <td>Rickshaw</td>\n",
              "      <td>Rickshaw</td>\n",
              "      <td>Transportation</td>\n",
              "      <td>Pakistan</td>\n",
              "      <td>Lahore</td>\n",
              "      <td>PKR</td>\n",
              "      <td>14</td>\n",
              "      <td>female, female</td>\n",
              "      <td>irregular</td>\n",
              "    </tr>\n",
              "    <tr>\n",
              "      <th>2</th>\n",
              "      <td>150.0</td>\n",
              "      <td>150.0</td>\n",
              "      <td>Transportation</td>\n",
              "      <td>Transportation</td>\n",
              "      <td>Transportation</td>\n",
              "      <td>India</td>\n",
              "      <td>Maynaguri</td>\n",
              "      <td>INR</td>\n",
              "      <td>6</td>\n",
              "      <td>female</td>\n",
              "      <td>bullet</td>\n",
              "    </tr>\n",
              "    <tr>\n",
              "      <th>3</th>\n",
              "      <td>200.0</td>\n",
              "      <td>200.0</td>\n",
              "      <td>Embroidery</td>\n",
              "      <td>Embroidery</td>\n",
              "      <td>Arts</td>\n",
              "      <td>Pakistan</td>\n",
              "      <td>Lahore</td>\n",
              "      <td>PKR</td>\n",
              "      <td>8</td>\n",
              "      <td>female</td>\n",
              "      <td>irregular</td>\n",
              "    </tr>\n",
              "    <tr>\n",
              "      <th>4</th>\n",
              "      <td>400.0</td>\n",
              "      <td>400.0</td>\n",
              "      <td>Milk Sales</td>\n",
              "      <td>Milk Sales</td>\n",
              "      <td>Food</td>\n",
              "      <td>Pakistan</td>\n",
              "      <td>Abdul Hakeem</td>\n",
              "      <td>PKR</td>\n",
              "      <td>16</td>\n",
              "      <td>female</td>\n",
              "      <td>monthly</td>\n",
              "    </tr>\n",
              "  </tbody>\n",
              "</table>\n",
              "</div>"
            ],
            "text/plain": [
              "   funded_amount  loan_amount  ... borrower_genders repayment_interval\n",
              "0          300.0        300.0  ...           female          irregular\n",
              "1          575.0        575.0  ...   female, female          irregular\n",
              "2          150.0        150.0  ...           female             bullet\n",
              "3          200.0        200.0  ...           female          irregular\n",
              "4          400.0        400.0  ...           female            monthly\n",
              "\n",
              "[5 rows x 11 columns]"
            ]
          },
          "metadata": {},
          "execution_count": 25
        }
      ]
    },
    {
      "cell_type": "code",
      "metadata": {
        "colab": {
          "base_uri": "https://localhost:8080/"
        },
        "id": "iXVwubxiWlgL",
        "outputId": "a25484c6-b2b7-45ac-d25c-46bcf100b2b2"
      },
      "source": [
        "for i in df_kiva_new.columns:\n",
        "  print(i)"
      ],
      "execution_count": 23,
      "outputs": [
        {
          "output_type": "stream",
          "name": "stdout",
          "text": [
            "funded_amount\n",
            "loan_amount\n",
            "activity\n",
            "activity\n",
            "sector\n",
            "country\n",
            "region\n",
            "currency\n",
            "lender_count\n",
            "borrower_genders\n",
            "repayment_interval\n"
          ]
        }
      ]
    },
    {
      "cell_type": "code",
      "metadata": {
        "colab": {
          "base_uri": "https://localhost:8080/",
          "height": 391
        },
        "id": "iHYj4f6fPaTJ",
        "outputId": "c2528ad2-2849-4de3-f167-419589d5a883"
      },
      "source": [
        "for i in df_kiva_new.columns:\n",
        "  from sklearn.impute import MissingIndicator\n",
        "  miss = MissingIndicator()\n",
        "  df_kiva_new[miss.fit_transform(df_kiva_new[i])]"
      ],
      "execution_count": 22,
      "outputs": [
        {
          "output_type": "error",
          "ename": "ValueError",
          "evalue": "ignored",
          "traceback": [
            "\u001b[0;31m---------------------------------------------------------------------------\u001b[0m",
            "\u001b[0;31mValueError\u001b[0m                                Traceback (most recent call last)",
            "\u001b[0;32m<ipython-input-22-e12c4dd186f2>\u001b[0m in \u001b[0;36m<module>\u001b[0;34m()\u001b[0m\n\u001b[1;32m      2\u001b[0m   \u001b[0;32mfrom\u001b[0m \u001b[0msklearn\u001b[0m\u001b[0;34m.\u001b[0m\u001b[0mimpute\u001b[0m \u001b[0;32mimport\u001b[0m \u001b[0mMissingIndicator\u001b[0m\u001b[0;34m\u001b[0m\u001b[0;34m\u001b[0m\u001b[0m\n\u001b[1;32m      3\u001b[0m   \u001b[0mmiss\u001b[0m \u001b[0;34m=\u001b[0m \u001b[0mMissingIndicator\u001b[0m\u001b[0;34m(\u001b[0m\u001b[0;34m)\u001b[0m\u001b[0;34m\u001b[0m\u001b[0;34m\u001b[0m\u001b[0m\n\u001b[0;32m----> 4\u001b[0;31m   \u001b[0mdf_kiva_new\u001b[0m\u001b[0;34m[\u001b[0m\u001b[0mmiss\u001b[0m\u001b[0;34m.\u001b[0m\u001b[0mfit_transform\u001b[0m\u001b[0;34m(\u001b[0m\u001b[0mdf_kiva_new\u001b[0m\u001b[0;34m[\u001b[0m\u001b[0mi\u001b[0m\u001b[0;34m]\u001b[0m\u001b[0;34m)\u001b[0m\u001b[0;34m]\u001b[0m\u001b[0;34m\u001b[0m\u001b[0;34m\u001b[0m\u001b[0m\n\u001b[0m",
            "\u001b[0;32m/usr/local/lib/python3.7/dist-packages/sklearn/impute/_base.py\u001b[0m in \u001b[0;36mfit_transform\u001b[0;34m(self, X, y)\u001b[0m\n\u001b[1;32m    711\u001b[0m \u001b[0;34m\u001b[0m\u001b[0m\n\u001b[1;32m    712\u001b[0m         \"\"\"\n\u001b[0;32m--> 713\u001b[0;31m         \u001b[0mimputer_mask\u001b[0m \u001b[0;34m=\u001b[0m \u001b[0mself\u001b[0m\u001b[0;34m.\u001b[0m\u001b[0m_fit\u001b[0m\u001b[0;34m(\u001b[0m\u001b[0mX\u001b[0m\u001b[0;34m,\u001b[0m \u001b[0my\u001b[0m\u001b[0;34m)\u001b[0m\u001b[0;34m\u001b[0m\u001b[0;34m\u001b[0m\u001b[0m\n\u001b[0m\u001b[1;32m    714\u001b[0m \u001b[0;34m\u001b[0m\u001b[0m\n\u001b[1;32m    715\u001b[0m         \u001b[0;32mif\u001b[0m \u001b[0mself\u001b[0m\u001b[0;34m.\u001b[0m\u001b[0mfeatures_\u001b[0m\u001b[0;34m.\u001b[0m\u001b[0msize\u001b[0m \u001b[0;34m<\u001b[0m \u001b[0mself\u001b[0m\u001b[0;34m.\u001b[0m\u001b[0m_n_features\u001b[0m\u001b[0;34m:\u001b[0m\u001b[0;34m\u001b[0m\u001b[0;34m\u001b[0m\u001b[0m\n",
            "\u001b[0;32m/usr/local/lib/python3.7/dist-packages/sklearn/impute/_base.py\u001b[0m in \u001b[0;36m_fit\u001b[0;34m(self, X, y)\u001b[0m\n\u001b[1;32m    623\u001b[0m \u001b[0;34m\u001b[0m\u001b[0m\n\u001b[1;32m    624\u001b[0m         \"\"\"\n\u001b[0;32m--> 625\u001b[0;31m         \u001b[0mX\u001b[0m \u001b[0;34m=\u001b[0m \u001b[0mself\u001b[0m\u001b[0;34m.\u001b[0m\u001b[0m_validate_input\u001b[0m\u001b[0;34m(\u001b[0m\u001b[0mX\u001b[0m\u001b[0;34m)\u001b[0m\u001b[0;34m\u001b[0m\u001b[0;34m\u001b[0m\u001b[0m\n\u001b[0m\u001b[1;32m    626\u001b[0m         \u001b[0mself\u001b[0m\u001b[0;34m.\u001b[0m\u001b[0m_n_features\u001b[0m \u001b[0;34m=\u001b[0m \u001b[0mX\u001b[0m\u001b[0;34m.\u001b[0m\u001b[0mshape\u001b[0m\u001b[0;34m[\u001b[0m\u001b[0;36m1\u001b[0m\u001b[0;34m]\u001b[0m\u001b[0;34m\u001b[0m\u001b[0;34m\u001b[0m\u001b[0m\n\u001b[1;32m    627\u001b[0m \u001b[0;34m\u001b[0m\u001b[0m\n",
            "\u001b[0;32m/usr/local/lib/python3.7/dist-packages/sklearn/impute/_base.py\u001b[0m in \u001b[0;36m_validate_input\u001b[0;34m(self, X)\u001b[0m\n\u001b[1;32m    588\u001b[0m             \u001b[0mforce_all_finite\u001b[0m \u001b[0;34m=\u001b[0m \u001b[0;34m\"allow-nan\"\u001b[0m\u001b[0;34m\u001b[0m\u001b[0;34m\u001b[0m\u001b[0m\n\u001b[1;32m    589\u001b[0m         X = check_array(X, accept_sparse=('csc', 'csr'), dtype=None,\n\u001b[0;32m--> 590\u001b[0;31m                         force_all_finite=force_all_finite)\n\u001b[0m\u001b[1;32m    591\u001b[0m         \u001b[0m_check_inputs_dtype\u001b[0m\u001b[0;34m(\u001b[0m\u001b[0mX\u001b[0m\u001b[0;34m,\u001b[0m \u001b[0mself\u001b[0m\u001b[0;34m.\u001b[0m\u001b[0mmissing_values\u001b[0m\u001b[0;34m)\u001b[0m\u001b[0;34m\u001b[0m\u001b[0;34m\u001b[0m\u001b[0m\n\u001b[1;32m    592\u001b[0m         \u001b[0;32mif\u001b[0m \u001b[0mX\u001b[0m\u001b[0;34m.\u001b[0m\u001b[0mdtype\u001b[0m\u001b[0;34m.\u001b[0m\u001b[0mkind\u001b[0m \u001b[0;32mnot\u001b[0m \u001b[0;32min\u001b[0m \u001b[0;34m(\u001b[0m\u001b[0;34m\"i\"\u001b[0m\u001b[0;34m,\u001b[0m \u001b[0;34m\"u\"\u001b[0m\u001b[0;34m,\u001b[0m \u001b[0;34m\"f\"\u001b[0m\u001b[0;34m,\u001b[0m \u001b[0;34m\"O\"\u001b[0m\u001b[0;34m)\u001b[0m\u001b[0;34m:\u001b[0m\u001b[0;34m\u001b[0m\u001b[0;34m\u001b[0m\u001b[0m\n",
            "\u001b[0;32m/usr/local/lib/python3.7/dist-packages/sklearn/utils/validation.py\u001b[0m in \u001b[0;36mcheck_array\u001b[0;34m(array, accept_sparse, accept_large_sparse, dtype, order, copy, force_all_finite, ensure_2d, allow_nd, ensure_min_samples, ensure_min_features, warn_on_dtype, estimator)\u001b[0m\n\u001b[1;32m    554\u001b[0m                     \u001b[0;34m\"Reshape your data either using array.reshape(-1, 1) if \"\u001b[0m\u001b[0;34m\u001b[0m\u001b[0;34m\u001b[0m\u001b[0m\n\u001b[1;32m    555\u001b[0m                     \u001b[0;34m\"your data has a single feature or array.reshape(1, -1) \"\u001b[0m\u001b[0;34m\u001b[0m\u001b[0;34m\u001b[0m\u001b[0m\n\u001b[0;32m--> 556\u001b[0;31m                     \"if it contains a single sample.\".format(array))\n\u001b[0m\u001b[1;32m    557\u001b[0m \u001b[0;34m\u001b[0m\u001b[0m\n\u001b[1;32m    558\u001b[0m         \u001b[0;31m# in the future np.flexible dtypes will be handled like object dtypes\u001b[0m\u001b[0;34m\u001b[0m\u001b[0;34m\u001b[0m\u001b[0;34m\u001b[0m\u001b[0m\n",
            "\u001b[0;31mValueError\u001b[0m: Expected 2D array, got 1D array instead:\narray=[300. 575. 150. ...   0.   0.   0.].\nReshape your data either using array.reshape(-1, 1) if your data has a single feature or array.reshape(1, -1) if it contains a single sample."
          ]
        }
      ]
    },
    {
      "cell_type": "code",
      "metadata": {
        "colab": {
          "base_uri": "https://localhost:8080/",
          "height": 690
        },
        "id": "GAZMqZHYOkfF",
        "outputId": "f49f3fdd-4f8c-46c4-986d-c0065ca9a35a"
      },
      "source": [
        "df_kiva.plot(subplots=True, figsize=(20,10))\n"
      ],
      "execution_count": 24,
      "outputs": [
        {
          "output_type": "execute_result",
          "data": {
            "text/plain": [
              "array([<matplotlib.axes._subplots.AxesSubplot object at 0x7f9f4de2d310>,\n",
              "       <matplotlib.axes._subplots.AxesSubplot object at 0x7f9f4ddfda10>,\n",
              "       <matplotlib.axes._subplots.AxesSubplot object at 0x7f9f4ddb9d50>,\n",
              "       <matplotlib.axes._subplots.AxesSubplot object at 0x7f9f4dd7e0d0>,\n",
              "       <matplotlib.axes._subplots.AxesSubplot object at 0x7f9f4dd35410>,\n",
              "       <matplotlib.axes._subplots.AxesSubplot object at 0x7f9f4dcea750>],\n",
              "      dtype=object)"
            ]
          },
          "metadata": {},
          "execution_count": 24
        },
        {
          "output_type": "display_data",
          "data": {
            "image/png": "[encoded data removed]",
            "text/plain": [
              "<Figure size 1440x720 with 6 Axes>"
            ]
          },
          "metadata": {
            "needs_background": "light"
          }
        }
      ]
    },
    {
      "cell_type": "code",
      "metadata": {
        "id": "d2y5HzkQOkcW"
      },
      "source": [
        "q1 = df_kiva_new[\"funded_amount\"].quantile(.25)\n",
        "q3 = df_kiva_new[\"funded_amount\"].quantile(.75)\n",
        "iqr = q3 - q1\n",
        "min_out = q1 -1.5 * iqr\n",
        "max_out = q3 + 1.5 * iqr"
      ],
      "execution_count": 26,
      "outputs": []
    },
    {
      "cell_type": "code",
      "metadata": {
        "colab": {
          "base_uri": "https://localhost:8080/"
        },
        "id": "F3wenQydOkZn",
        "outputId": "7cbd4873-5dbf-4648-8fc3-68358402bcb3"
      },
      "source": [
        "min_out"
      ],
      "execution_count": 27,
      "outputs": [
        {
          "output_type": "execute_result",
          "data": {
            "text/plain": [
              "-725.0"
            ]
          },
          "metadata": {},
          "execution_count": 27
        }
      ]
    },
    {
      "cell_type": "code",
      "metadata": {
        "colab": {
          "base_uri": "https://localhost:8080/"
        },
        "id": "g9P_PPj4OfcD",
        "outputId": "ceb6810f-4592-4b5a-fadf-1f4fd1daff11"
      },
      "source": [
        "max_out"
      ],
      "execution_count": 28,
      "outputs": [
        {
          "output_type": "execute_result",
          "data": {
            "text/plain": [
              "1875.0"
            ]
          },
          "metadata": {},
          "execution_count": 28
        }
      ]
    },
    {
      "cell_type": "code",
      "metadata": {
        "colab": {
          "base_uri": "https://localhost:8080/"
        },
        "id": "neFzDu5ROfYm",
        "outputId": "b157a018-0b4f-48aa-a1b4-fbb5c97cd7ff"
      },
      "source": [
        "df_kiva_new[\"funded_amount\"].max()"
      ],
      "execution_count": 29,
      "outputs": [
        {
          "output_type": "execute_result",
          "data": {
            "text/plain": [
              "100000.0"
            ]
          },
          "metadata": {},
          "execution_count": 29
        }
      ]
    },
    {
      "cell_type": "code",
      "metadata": {
        "colab": {
          "base_uri": "https://localhost:8080/",
          "height": 286
        },
        "id": "bASsqShSOfVc",
        "outputId": "83091acf-0912-40f6-f868-e8eb3fede311"
      },
      "source": [
        "df_kiva_new[(df_kiva_new[\"funded_amount\"]>= min_out) & (df_kiva_new[\"funded_amount\"]<= max_out)][\"funded_amount\"].plot.box()"
      ],
      "execution_count": 33,
      "outputs": [
        {
          "output_type": "execute_result",
          "data": {
            "text/plain": [
              "<matplotlib.axes._subplots.AxesSubplot at 0x7f9f604d5c50>"
            ]
          },
          "metadata": {},
          "execution_count": 33
        },
        {
          "output_type": "display_data",
          "data": {
            "image/png": "[encoded data removed]",
            "text/plain": [
              "<Figure size 432x288 with 1 Axes>"
            ]
          },
          "metadata": {
            "needs_background": "light"
          }
        }
      ]
    },
    {
      "cell_type": "code",
      "metadata": {
        "id": "mkW5vHMFONvY"
      },
      "source": [
        "from sklearn."
      ],
      "execution_count": null,
      "outputs": []
    },
    {
      "cell_type": "code",
      "metadata": {
        "colab": {
          "base_uri": "https://localhost:8080/",
          "height": 238
        },
        "id": "KSOg3JfZONsk",
        "outputId": "55c6944c-a63e-4745-efc9-10c6d1cf350d"
      },
      "source": [
        "df_kiva_new.head()"
      ],
      "execution_count": 34,
      "outputs": [
        {
          "output_type": "execute_result",
          "data": {
            "text/html": [
              "<div>\n",
              "<style scoped>\n",
              "    .dataframe tbody tr th:only-of-type {\n",
              "        vertical-align: middle;\n",
              "    }\n",
              "\n",
              "    .dataframe tbody tr th {\n",
              "        vertical-align: top;\n",
              "    }\n",
              "\n",
              "    .dataframe thead th {\n",
              "        text-align: right;\n",
              "    }\n",
              "</style>\n",
              "<table border=\"1\" class=\"dataframe\">\n",
              "  <thead>\n",
              "    <tr style=\"text-align: right;\">\n",
              "      <th></th>\n",
              "      <th>funded_amount</th>\n",
              "      <th>loan_amount</th>\n",
              "      <th>activity</th>\n",
              "      <th>activity</th>\n",
              "      <th>sector</th>\n",
              "      <th>country</th>\n",
              "      <th>region</th>\n",
              "      <th>currency</th>\n",
              "      <th>lender_count</th>\n",
              "      <th>borrower_genders</th>\n",
              "      <th>repayment_interval</th>\n",
              "    </tr>\n",
              "  </thead>\n",
              "  <tbody>\n",
              "    <tr>\n",
              "      <th>0</th>\n",
              "      <td>300.0</td>\n",
              "      <td>300.0</td>\n",
              "      <td>Fruits &amp; Vegetables</td>\n",
              "      <td>Fruits &amp; Vegetables</td>\n",
              "      <td>Food</td>\n",
              "      <td>Pakistan</td>\n",
              "      <td>Lahore</td>\n",
              "      <td>PKR</td>\n",
              "      <td>12</td>\n",
              "      <td>female</td>\n",
              "      <td>irregular</td>\n",
              "    </tr>\n",
              "    <tr>\n",
              "      <th>1</th>\n",
              "      <td>575.0</td>\n",
              "      <td>575.0</td>\n",
              "      <td>Rickshaw</td>\n",
              "      <td>Rickshaw</td>\n",
              "      <td>Transportation</td>\n",
              "      <td>Pakistan</td>\n",
              "      <td>Lahore</td>\n",
              "      <td>PKR</td>\n",
              "      <td>14</td>\n",
              "      <td>female, female</td>\n",
              "      <td>irregular</td>\n",
              "    </tr>\n",
              "    <tr>\n",
              "      <th>2</th>\n",
              "      <td>150.0</td>\n",
              "      <td>150.0</td>\n",
              "      <td>Transportation</td>\n",
              "      <td>Transportation</td>\n",
              "      <td>Transportation</td>\n",
              "      <td>India</td>\n",
              "      <td>Maynaguri</td>\n",
              "      <td>INR</td>\n",
              "      <td>6</td>\n",
              "      <td>female</td>\n",
              "      <td>bullet</td>\n",
              "    </tr>\n",
              "    <tr>\n",
              "      <th>3</th>\n",
              "      <td>200.0</td>\n",
              "      <td>200.0</td>\n",
              "      <td>Embroidery</td>\n",
              "      <td>Embroidery</td>\n",
              "      <td>Arts</td>\n",
              "      <td>Pakistan</td>\n",
              "      <td>Lahore</td>\n",
              "      <td>PKR</td>\n",
              "      <td>8</td>\n",
              "      <td>female</td>\n",
              "      <td>irregular</td>\n",
              "    </tr>\n",
              "    <tr>\n",
              "      <th>4</th>\n",
              "      <td>400.0</td>\n",
              "      <td>400.0</td>\n",
              "      <td>Milk Sales</td>\n",
              "      <td>Milk Sales</td>\n",
              "      <td>Food</td>\n",
              "      <td>Pakistan</td>\n",
              "      <td>Abdul Hakeem</td>\n",
              "      <td>PKR</td>\n",
              "      <td>16</td>\n",
              "      <td>female</td>\n",
              "      <td>monthly</td>\n",
              "    </tr>\n",
              "  </tbody>\n",
              "</table>\n",
              "</div>"
            ],
            "text/plain": [
              "   funded_amount  loan_amount  ... borrower_genders repayment_interval\n",
              "0          300.0        300.0  ...           female          irregular\n",
              "1          575.0        575.0  ...   female, female          irregular\n",
              "2          150.0        150.0  ...           female             bullet\n",
              "3          200.0        200.0  ...           female          irregular\n",
              "4          400.0        400.0  ...           female            monthly\n",
              "\n",
              "[5 rows x 11 columns]"
            ]
          },
          "metadata": {},
          "execution_count": 34
        }
      ]
    },
    {
      "cell_type": "code",
      "metadata": {
        "colab": {
          "base_uri": "https://localhost:8080/"
        },
        "id": "zVjjQ6FyONp_",
        "outputId": "3d2e44c0-5b61-4126-ba30-0fd36e7acd4f"
      },
      "source": [
        "df_kiva_new[\"sector\"].value_counts().count()"
      ],
      "execution_count": 36,
      "outputs": [
        {
          "output_type": "execute_result",
          "data": {
            "text/plain": [
              "15"
            ]
          },
          "metadata": {},
          "execution_count": 36
        }
      ]
    },
    {
      "cell_type": "code",
      "metadata": {
        "colab": {
          "base_uri": "https://localhost:8080/"
        },
        "id": "JLX431iSONne",
        "outputId": "52ab4a05-6dad-421d-f0b9-981d66802ada"
      },
      "source": [
        "from sklearn.preprocessing import OneHotEncoder\n",
        "enc = OneHotEncoder()\n",
        "enc.fit_transform(df_kiva_new[[\"sector\"]]).toarray()"
      ],
      "execution_count": 38,
      "outputs": [
        {
          "output_type": "execute_result",
          "data": {
            "text/plain": [
              "array([[0., 0., 0., ..., 0., 0., 0.],\n",
              "       [0., 0., 0., ..., 0., 1., 0.],\n",
              "       [0., 0., 0., ..., 0., 1., 0.],\n",
              "       ...,\n",
              "       [0., 0., 0., ..., 0., 0., 0.],\n",
              "       [1., 0., 0., ..., 0., 0., 0.],\n",
              "       [1., 0., 0., ..., 0., 0., 0.]])"
            ]
          },
          "metadata": {},
          "execution_count": 38
        }
      ]
    },
    {
      "cell_type": "code",
      "metadata": {
        "colab": {
          "base_uri": "https://localhost:8080/"
        },
        "id": "R4NiXFxHONkt",
        "outputId": "ef458cf2-3042-4227-c644-c655b8ce9bb9"
      },
      "source": [
        "from sklearn.preprocessing import LabelEncoder\n",
        "enc = LabelEncoder()\n",
        "enc.fit_transform(df_kiva_new[[\"sector\"]])"
      ],
      "execution_count": 41,
      "outputs": [
        {
          "output_type": "stream",
          "name": "stderr",
          "text": [
            "/usr/local/lib/python3.7/dist-packages/sklearn/preprocessing/_label.py:251: DataConversionWarning: A column-vector y was passed when a 1d array was expected. Please change the shape of y to (n_samples, ), for example using ravel().\n",
            "  y = column_or_1d(y, warn=True)\n"
          ]
        },
        {
          "output_type": "execute_result",
          "data": {
            "text/plain": [
              "array([ 6, 13, 13, ...,  5,  0,  0])"
            ]
          },
          "metadata": {},
          "execution_count": 41
        }
      ]
    },
    {
      "cell_type": "code",
      "metadata": {
        "colab": {
          "base_uri": "https://localhost:8080/"
        },
        "id": "6JJ9pcU4ONhp",
        "outputId": "2c36e81b-a403-401b-b0fa-3dc6195e08bc"
      },
      "source": [
        "pd.Series(enc.fit_transform(df_kiva_new[[\"sector\"]]))"
      ],
      "execution_count": 42,
      "outputs": [
        {
          "output_type": "stream",
          "name": "stderr",
          "text": [
            "/usr/local/lib/python3.7/dist-packages/sklearn/preprocessing/_label.py:251: DataConversionWarning: A column-vector y was passed when a 1d array was expected. Please change the shape of y to (n_samples, ), for example using ravel().\n",
            "  y = column_or_1d(y, warn=True)\n"
          ]
        },
        {
          "output_type": "execute_result",
          "data": {
            "text/plain": [
              "0          6\n",
              "1         13\n",
              "2         13\n",
              "3          1\n",
              "4          6\n",
              "          ..\n",
              "671200     0\n",
              "671201     0\n",
              "671202     5\n",
              "671203     0\n",
              "671204     0\n",
              "Length: 671205, dtype: int64"
            ]
          },
          "metadata": {},
          "execution_count": 42
        }
      ]
    },
    {
      "cell_type": "code",
      "metadata": {
        "id": "YK8BlfvXN5AL"
      },
      "source": [
        "from sklearn.model_selection import train_test_split\n"
      ],
      "execution_count": null,
      "outputs": []
    },
    {
      "cell_type": "code",
      "metadata": {
        "colab": {
          "base_uri": "https://localhost:8080/",
          "height": 238
        },
        "id": "ocK2ZovPN49x",
        "outputId": "4ac34133-6005-4042-aa08-deed76030758"
      },
      "source": [
        "df_kiva_new.head()"
      ],
      "execution_count": 43,
      "outputs": [
        {
          "output_type": "execute_result",
          "data": {
            "text/html": [
              "<div>\n",
              "<style scoped>\n",
              "    .dataframe tbody tr th:only-of-type {\n",
              "        vertical-align: middle;\n",
              "    }\n",
              "\n",
              "    .dataframe tbody tr th {\n",
              "        vertical-align: top;\n",
              "    }\n",
              "\n",
              "    .dataframe thead th {\n",
              "        text-align: right;\n",
              "    }\n",
              "</style>\n",
              "<table border=\"1\" class=\"dataframe\">\n",
              "  <thead>\n",
              "    <tr style=\"text-align: right;\">\n",
              "      <th></th>\n",
              "      <th>funded_amount</th>\n",
              "      <th>loan_amount</th>\n",
              "      <th>activity</th>\n",
              "      <th>activity</th>\n",
              "      <th>sector</th>\n",
              "      <th>country</th>\n",
              "      <th>region</th>\n",
              "      <th>currency</th>\n",
              "      <th>lender_count</th>\n",
              "      <th>borrower_genders</th>\n",
              "      <th>repayment_interval</th>\n",
              "    </tr>\n",
              "  </thead>\n",
              "  <tbody>\n",
              "    <tr>\n",
              "      <th>0</th>\n",
              "      <td>300.0</td>\n",
              "      <td>300.0</td>\n",
              "      <td>Fruits &amp; Vegetables</td>\n",
              "      <td>Fruits &amp; Vegetables</td>\n",
              "      <td>Food</td>\n",
              "      <td>Pakistan</td>\n",
              "      <td>Lahore</td>\n",
              "      <td>PKR</td>\n",
              "      <td>12</td>\n",
              "      <td>female</td>\n",
              "      <td>irregular</td>\n",
              "    </tr>\n",
              "    <tr>\n",
              "      <th>1</th>\n",
              "      <td>575.0</td>\n",
              "      <td>575.0</td>\n",
              "      <td>Rickshaw</td>\n",
              "      <td>Rickshaw</td>\n",
              "      <td>Transportation</td>\n",
              "      <td>Pakistan</td>\n",
              "      <td>Lahore</td>\n",
              "      <td>PKR</td>\n",
              "      <td>14</td>\n",
              "      <td>female, female</td>\n",
              "      <td>irregular</td>\n",
              "    </tr>\n",
              "    <tr>\n",
              "      <th>2</th>\n",
              "      <td>150.0</td>\n",
              "      <td>150.0</td>\n",
              "      <td>Transportation</td>\n",
              "      <td>Transportation</td>\n",
              "      <td>Transportation</td>\n",
              "      <td>India</td>\n",
              "      <td>Maynaguri</td>\n",
              "      <td>INR</td>\n",
              "      <td>6</td>\n",
              "      <td>female</td>\n",
              "      <td>bullet</td>\n",
              "    </tr>\n",
              "    <tr>\n",
              "      <th>3</th>\n",
              "      <td>200.0</td>\n",
              "      <td>200.0</td>\n",
              "      <td>Embroidery</td>\n",
              "      <td>Embroidery</td>\n",
              "      <td>Arts</td>\n",
              "      <td>Pakistan</td>\n",
              "      <td>Lahore</td>\n",
              "      <td>PKR</td>\n",
              "      <td>8</td>\n",
              "      <td>female</td>\n",
              "      <td>irregular</td>\n",
              "    </tr>\n",
              "    <tr>\n",
              "      <th>4</th>\n",
              "      <td>400.0</td>\n",
              "      <td>400.0</td>\n",
              "      <td>Milk Sales</td>\n",
              "      <td>Milk Sales</td>\n",
              "      <td>Food</td>\n",
              "      <td>Pakistan</td>\n",
              "      <td>Abdul Hakeem</td>\n",
              "      <td>PKR</td>\n",
              "      <td>16</td>\n",
              "      <td>female</td>\n",
              "      <td>monthly</td>\n",
              "    </tr>\n",
              "  </tbody>\n",
              "</table>\n",
              "</div>"
            ],
            "text/plain": [
              "   funded_amount  loan_amount  ... borrower_genders repayment_interval\n",
              "0          300.0        300.0  ...           female          irregular\n",
              "1          575.0        575.0  ...   female, female          irregular\n",
              "2          150.0        150.0  ...           female             bullet\n",
              "3          200.0        200.0  ...           female          irregular\n",
              "4          400.0        400.0  ...           female            monthly\n",
              "\n",
              "[5 rows x 11 columns]"
            ]
          },
          "metadata": {},
          "execution_count": 43
        }
      ]
    },
    {
      "cell_type": "code",
      "metadata": {
        "id": "sIz4kSpAeMbC"
      },
      "source": [
        "y = df_kiva_new[\"repayment_interval\"].values"
      ],
      "execution_count": 45,
      "outputs": []
    },
    {
      "cell_type": "code",
      "metadata": {
        "colab": {
          "base_uri": "https://localhost:8080/",
          "height": 306
        },
        "id": "BxB19kALeMSZ",
        "outputId": "216a0ba2-b489-426f-975a-f6ac332e07b0"
      },
      "source": [
        "X = df_kiva_new.drop(df_kiva_new[\"repayment_interval\"], axis=1).values"
      ],
      "execution_count": 49,
      "outputs": [
        {
          "output_type": "error",
          "ename": "KeyError",
          "evalue": "ignored",
          "traceback": [
            "\u001b[0;31m---------------------------------------------------------------------------\u001b[0m",
            "\u001b[0;31mKeyError\u001b[0m                                  Traceback (most recent call last)",
            "\u001b[0;32m<ipython-input-49-d99cdf6c2f6f>\u001b[0m in \u001b[0;36m<module>\u001b[0;34m()\u001b[0m\n\u001b[0;32m----> 1\u001b[0;31m \u001b[0mX\u001b[0m \u001b[0;34m=\u001b[0m \u001b[0mdf_kiva_new\u001b[0m\u001b[0;34m.\u001b[0m\u001b[0mdrop\u001b[0m\u001b[0;34m(\u001b[0m\u001b[0mdf_kiva_new\u001b[0m\u001b[0;34m[\u001b[0m\u001b[0;34m\"repayment_interval\"\u001b[0m\u001b[0;34m]\u001b[0m\u001b[0;34m,\u001b[0m \u001b[0maxis\u001b[0m\u001b[0;34m=\u001b[0m\u001b[0;36m1\u001b[0m\u001b[0;34m)\u001b[0m\u001b[0;34m.\u001b[0m\u001b[0mvalues\u001b[0m\u001b[0;34m\u001b[0m\u001b[0;34m\u001b[0m\u001b[0m\n\u001b[0m",
            "\u001b[0;32m/usr/local/lib/python3.7/dist-packages/pandas/core/frame.py\u001b[0m in \u001b[0;36mdrop\u001b[0;34m(self, labels, axis, index, columns, level, inplace, errors)\u001b[0m\n\u001b[1;32m   4172\u001b[0m             \u001b[0mlevel\u001b[0m\u001b[0;34m=\u001b[0m\u001b[0mlevel\u001b[0m\u001b[0;34m,\u001b[0m\u001b[0;34m\u001b[0m\u001b[0;34m\u001b[0m\u001b[0m\n\u001b[1;32m   4173\u001b[0m             \u001b[0minplace\u001b[0m\u001b[0;34m=\u001b[0m\u001b[0minplace\u001b[0m\u001b[0;34m,\u001b[0m\u001b[0;34m\u001b[0m\u001b[0;34m\u001b[0m\u001b[0m\n\u001b[0;32m-> 4174\u001b[0;31m             \u001b[0merrors\u001b[0m\u001b[0;34m=\u001b[0m\u001b[0merrors\u001b[0m\u001b[0;34m,\u001b[0m\u001b[0;34m\u001b[0m\u001b[0;34m\u001b[0m\u001b[0m\n\u001b[0m\u001b[1;32m   4175\u001b[0m         )\n\u001b[1;32m   4176\u001b[0m \u001b[0;34m\u001b[0m\u001b[0m\n",
            "\u001b[0;32m/usr/local/lib/python3.7/dist-packages/pandas/core/generic.py\u001b[0m in \u001b[0;36mdrop\u001b[0;34m(self, labels, axis, index, columns, level, inplace, errors)\u001b[0m\n\u001b[1;32m   3887\u001b[0m         \u001b[0;32mfor\u001b[0m \u001b[0maxis\u001b[0m\u001b[0;34m,\u001b[0m \u001b[0mlabels\u001b[0m \u001b[0;32min\u001b[0m \u001b[0maxes\u001b[0m\u001b[0;34m.\u001b[0m\u001b[0mitems\u001b[0m\u001b[0;34m(\u001b[0m\u001b[0;34m)\u001b[0m\u001b[0;34m:\u001b[0m\u001b[0;34m\u001b[0m\u001b[0;34m\u001b[0m\u001b[0m\n\u001b[1;32m   3888\u001b[0m             \u001b[0;32mif\u001b[0m \u001b[0mlabels\u001b[0m \u001b[0;32mis\u001b[0m \u001b[0;32mnot\u001b[0m \u001b[0;32mNone\u001b[0m\u001b[0;34m:\u001b[0m\u001b[0;34m\u001b[0m\u001b[0;34m\u001b[0m\u001b[0m\n\u001b[0;32m-> 3889\u001b[0;31m                 \u001b[0mobj\u001b[0m \u001b[0;34m=\u001b[0m \u001b[0mobj\u001b[0m\u001b[0;34m.\u001b[0m\u001b[0m_drop_axis\u001b[0m\u001b[0;34m(\u001b[0m\u001b[0mlabels\u001b[0m\u001b[0;34m,\u001b[0m \u001b[0maxis\u001b[0m\u001b[0;34m,\u001b[0m \u001b[0mlevel\u001b[0m\u001b[0;34m=\u001b[0m\u001b[0mlevel\u001b[0m\u001b[0;34m,\u001b[0m \u001b[0merrors\u001b[0m\u001b[0;34m=\u001b[0m\u001b[0merrors\u001b[0m\u001b[0;34m)\u001b[0m\u001b[0;34m\u001b[0m\u001b[0;34m\u001b[0m\u001b[0m\n\u001b[0m\u001b[1;32m   3890\u001b[0m \u001b[0;34m\u001b[0m\u001b[0m\n\u001b[1;32m   3891\u001b[0m         \u001b[0;32mif\u001b[0m \u001b[0minplace\u001b[0m\u001b[0;34m:\u001b[0m\u001b[0;34m\u001b[0m\u001b[0;34m\u001b[0m\u001b[0m\n",
            "\u001b[0;32m/usr/local/lib/python3.7/dist-packages/pandas/core/generic.py\u001b[0m in \u001b[0;36m_drop_axis\u001b[0;34m(self, labels, axis, level, errors)\u001b[0m\n\u001b[1;32m   3940\u001b[0m                 \u001b[0mlabels_missing\u001b[0m \u001b[0;34m=\u001b[0m \u001b[0;34m(\u001b[0m\u001b[0maxis\u001b[0m\u001b[0;34m.\u001b[0m\u001b[0mget_indexer_for\u001b[0m\u001b[0;34m(\u001b[0m\u001b[0mlabels\u001b[0m\u001b[0;34m)\u001b[0m \u001b[0;34m==\u001b[0m \u001b[0;34m-\u001b[0m\u001b[0;36m1\u001b[0m\u001b[0;34m)\u001b[0m\u001b[0;34m.\u001b[0m\u001b[0many\u001b[0m\u001b[0;34m(\u001b[0m\u001b[0;34m)\u001b[0m\u001b[0;34m\u001b[0m\u001b[0;34m\u001b[0m\u001b[0m\n\u001b[1;32m   3941\u001b[0m                 \u001b[0;32mif\u001b[0m \u001b[0merrors\u001b[0m \u001b[0;34m==\u001b[0m \u001b[0;34m\"raise\"\u001b[0m \u001b[0;32mand\u001b[0m \u001b[0mlabels_missing\u001b[0m\u001b[0;34m:\u001b[0m\u001b[0;34m\u001b[0m\u001b[0;34m\u001b[0m\u001b[0m\n\u001b[0;32m-> 3942\u001b[0;31m                     \u001b[0;32mraise\u001b[0m \u001b[0mKeyError\u001b[0m\u001b[0;34m(\u001b[0m\u001b[0;34mf\"{labels} not found in axis\"\u001b[0m\u001b[0;34m)\u001b[0m\u001b[0;34m\u001b[0m\u001b[0;34m\u001b[0m\u001b[0m\n\u001b[0m\u001b[1;32m   3943\u001b[0m \u001b[0;34m\u001b[0m\u001b[0m\n\u001b[1;32m   3944\u001b[0m             \u001b[0mslicer\u001b[0m \u001b[0;34m=\u001b[0m \u001b[0;34m[\u001b[0m\u001b[0mslice\u001b[0m\u001b[0;34m(\u001b[0m\u001b[0;32mNone\u001b[0m\u001b[0;34m)\u001b[0m\u001b[0;34m]\u001b[0m \u001b[0;34m*\u001b[0m \u001b[0mself\u001b[0m\u001b[0;34m.\u001b[0m\u001b[0mndim\u001b[0m\u001b[0;34m\u001b[0m\u001b[0;34m\u001b[0m\u001b[0m\n",
            "\u001b[0;31mKeyError\u001b[0m: \"['irregular' 'irregular' 'bullet' ... 'monthly' 'monthly' 'monthly'] not found in axis\""
          ]
        }
      ]
    },
    {
      "cell_type": "code",
      "metadata": {
        "id": "tlh3KxeUeMOM"
      },
      "source": [
        "from sklearn.model_selection import train_test_split\n",
        "X_train, X_test, y_train, y_test = train_test_split(X, y, test_size= 0.20, random_state= 42)"
      ],
      "execution_count": null,
      "outputs": []
    },
    {
      "cell_type": "code",
      "metadata": {
        "id": "PklVH8fIfFZa"
      },
      "source": [
        ""
      ],
      "execution_count": null,
      "outputs": []
    },
    {
      "cell_type": "code",
      "metadata": {
        "id": "z1bu-Ai_fFVn"
      },
      "source": [
        ""
      ],
      "execution_count": null,
      "outputs": []
    },
    {
      "cell_type": "code",
      "metadata": {
        "id": "mEAhMgxYfFS_"
      },
      "source": [
        ""
      ],
      "execution_count": null,
      "outputs": []
    },
    {
      "cell_type": "code",
      "metadata": {
        "id": "HQ3E6NHxfFML"
      },
      "source": [
        ""
      ],
      "execution_count": null,
      "outputs": []
    },
    {
      "cell_type": "code",
      "metadata": {
        "id": "mgPH_nWXfFJH"
      },
      "source": [
        ""
      ],
      "execution_count": null,
      "outputs": []
    },
    {
      "cell_type": "code",
      "metadata": {
        "id": "MH1aIVs5fFGa"
      },
      "source": [
        ""
      ],
      "execution_count": null,
      "outputs": []
    },
    {
      "cell_type": "code",
      "metadata": {
        "id": "zIzDiwWufFEA"
      },
      "source": [
        ""
      ],
      "execution_count": null,
      "outputs": []
    },
    {
      "cell_type": "code",
      "metadata": {
        "id": "zy1tCRujfFAz"
      },
      "source": [
        ""
      ],
      "execution_count": null,
      "outputs": []
    },
    {
      "cell_type": "code",
      "metadata": {
        "id": "A0sdE8G5eLAd"
      },
      "source": [
        ""
      ],
      "execution_count": null,
      "outputs": []
    }
  ]
}