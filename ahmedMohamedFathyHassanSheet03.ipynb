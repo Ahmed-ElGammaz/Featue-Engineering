{
 "cells": [
  {
   "cell_type": "code",
   "execution_count": null,
   "id": "5d14029e",
   "metadata": {},
   "outputs": [],
   "source": [
    "#####################################"
   ]
  },
  {
   "cell_type": "code",
   "execution_count": 12,
   "id": "c4748a2d",
   "metadata": {},
   "outputs": [
    {
     "name": "stdout",
     "output_type": "stream",
     "text": [
      "1\n"
     ]
    }
   ],
   "source": [
    "# palindromic words\n",
    "def is_palindrome(word):\n",
    "    return word == word[::-1]\n",
    "\n",
    "def count_palindromes(filepath):\n",
    "    with open(filepath, 'r') as f:\n",
    "        content = f.read()\n",
    "        words = content.split()\n",
    "        palindromes = [word for word in words if is_palindrome(word)]\n",
    "        return len(palindromes)\n",
    "\n",
    "filepath = \"C:/Users/egypt/OneDrive/سطح المكتب/newfile.txt\"\n",
    "print(count_palindromes(filepath))"
   ]
  },
  {
   "cell_type": "code",
   "execution_count": 6,
   "id": "396b2a4e",
   "metadata": {},
   "outputs": [
    {
     "name": "stdout",
     "output_type": "stream",
     "text": [
      "Please enter a word: Ahmed\n",
      "The number of Vowels is:  2 \n",
      "The number of consonants is:  3\n"
     ]
    }
   ],
   "source": [
    "# the number of vowels and consonants\n",
    "vowels = set(\"AEIOUaeiou\")\n",
    "cons = set(\"bcdfghjklmnpqrstvwxyzBCDFGHJKLMNPQRSTVWXYZ\")\n",
    "word = input(\"Please enter a word: \")\n",
    "countV = 0\n",
    "countC = 0\n",
    "for c in word:\n",
    "    if c in vowels:\n",
    "        countV += 1\n",
    "    elif c in cons:\n",
    "        countC += 1\n",
    "print(\"The number of Vowels is: \",countV,\"\\nThe number of consonants is: \",countC)"
   ]
  },
  {
   "cell_type": "code",
   "execution_count": 13,
   "id": "1cbf360d",
   "metadata": {},
   "outputs": [
    {
     "name": "stdout",
     "output_type": "stream",
     "text": [
      "Enter the file path: C:/Users/egypt/OneDrive/سطح المكتب/newfile.txt\n",
      "Non-duplicate words:  {'dfgqqqqqaaaaaaaaaaaaa', 'dfhg', 'vzx', 'zcxv', 'dfg', 'zxch', 'xzccv', 'gfdh', 'xzcvzx', 'hdf', 'h', 'xvvzxv', 'df', 'ghdf', 'dfaaaaaaaaaaaaeoaeo', 'vc', 'gh'}\n"
     ]
    }
   ],
   "source": [
    "def get_non_duplicate_words(filepath):\n",
    "    with open(filepath, 'r') as f:\n",
    "        content = f.read()\n",
    "        words = content.split()\n",
    "        non_duplicate_words = set(words)\n",
    "        return non_duplicate_words\n",
    "\n",
    "filepath = input(\"Enter the file path: \")\n",
    "non_duplicate_words = get_non_duplicate_words(filepath)\n",
    "print(\"Non-duplicate words: \",non_duplicate_words)"
   ]
  },
  {
   "cell_type": "code",
   "execution_count": 14,
   "id": "03a32d97",
   "metadata": {},
   "outputs": [
    {
     "name": "stdout",
     "output_type": "stream",
     "text": [
      "Enter the input file path: C:/Users/egypt/OneDrive/سطح المكتب/newfile.txt\n",
      "Enter the output file path: C:/Users/egypt/OneDrive/سطح المكتب/ahmed.txt\n",
      "Newline characters removed and written to C:/Users/egypt/OneDrive/سطح المكتب/ahmed.txt\n"
     ]
    }
   ],
   "source": [
    "#Write a program to remove newline characters from a file and write the result in anotherfile.\n",
    "def remove_newlines(input_file, output_file):\n",
    "    with open(input_file, 'r') as f:\n",
    "        content = f.read()\n",
    "        content = content.replace('\\n', '')\n",
    "    with open(output_file, 'w') as f:\n",
    "        f.write(content)\n",
    "\n",
    "input_file = input(\"Enter the input file path: \")\n",
    "output_file = input(\"Enter the output file path: \")\n",
    "remove_newlines(input_file, output_file)\n",
    "print(\"Newline characters removed and written to\",output_file)"
   ]
  },
  {
   "cell_type": "code",
   "execution_count": 15,
   "id": "6592b3be",
   "metadata": {},
   "outputs": [
    {
     "name": "stdout",
     "output_type": "stream",
     "text": [
      "Enter the file path: C:/Users/egypt/OneDrive/سطح المكتب/newfile.txt\n",
      "Enter the number of lines to read: 3\n",
      "xvvzxv\n",
      "\n",
      "xzcvzx\n",
      "\n",
      "vzx\n",
      "\n"
     ]
    }
   ],
   "source": [
    "def read_n_lines(filepath, n):\n",
    "    with open(filepath, 'r') as f:\n",
    "        lines = f.readlines()\n",
    "        for i in range(n):\n",
    "            print(lines[i])\n",
    "\n",
    "filepath = input(\"Enter the file path: \")\n",
    "n = int(input(\"Enter the number of lines to read: \"))\n",
    "read_n_lines(filepath, n)"
   ]
  },
  {
   "cell_type": "code",
   "execution_count": 16,
   "id": "1f297f0c",
   "metadata": {},
   "outputs": [
    {
     "name": "stdout",
     "output_type": "stream",
     "text": [
      "Enter the file path: C:/Users/egypt/OneDrive/سطح المكتب/newfile.txt\n",
      "Enter the number of lines to read: 3\n",
      "gh\n",
      "\n",
      "gfdh\n",
      "\n",
      "dfg\n",
      "\n"
     ]
    }
   ],
   "source": [
    "def read_n_last_lines(filepath, n):\n",
    "    with open(filepath, 'r') as f:\n",
    "        lines = f.readlines()\n",
    "        for line in lines[-n:]:\n",
    "            print(line)\n",
    "\n",
    "filepath = input(\"Enter the file path: \")\n",
    "n = int(input(\"Enter the number of lines to read: \"))\n",
    "read_n_last_lines(filepath, n)"
   ]
  },
  {
   "cell_type": "code",
   "execution_count": 17,
   "id": "533dc2f2",
   "metadata": {},
   "outputs": [
    {
     "name": "stdout",
     "output_type": "stream",
     "text": [
      "Enter the first file path: C:/Users/egypt/OneDrive/سطح المكتب/newfile.txt\n",
      "Enter the second file path: C:/Users/egypt/OneDrive/سطح المكتب/ahmed.txt\n",
      "('xvvzxv', 'xvvzxvxzcvzxvzxvcxzccvzcxvzxchdfhdfhdfaaaaaaaaaaaaeoaeoghdfghdfhgdfgqqqqqaaaaaaaaaaaaaghgfdhdfg')\n"
     ]
    }
   ],
   "source": [
    "def combine_lines(file1, file2):\n",
    "    with open(file1) as f1, open(file2) as f2:\n",
    "        lines1 = f1.readlines()\n",
    "        lines2 = f2.readlines()\n",
    "        for line1, line2 in zip(lines1, lines2):\n",
    "            print((line1.strip(), line2.strip()))\n",
    "\n",
    "file1 = input(\"Enter the first file path: \")\n",
    "file2 = input(\"Enter the second file path: \")\n",
    "combine_lines(file1, file2)"
   ]
  },
  {
   "cell_type": "code",
   "execution_count": 18,
   "id": "12910ac1",
   "metadata": {},
   "outputs": [
    {
     "name": "stdout",
     "output_type": "stream",
     "text": [
      "Enter the file path: C:/Users/egypt/OneDrive/سطح المكتب/newfile.txt\n",
      "x: 8\n",
      "v: 8\n",
      "z: 7\n",
      "\n",
      ": 18\n",
      "c: 6\n",
      "h: 8\n",
      "d: 8\n",
      "f: 8\n",
      "a: 26\n",
      "e: 2\n",
      "o: 2\n",
      "g: 7\n",
      "q: 5\n"
     ]
    }
   ],
   "source": [
    "from collections import Counter\n",
    "\n",
    "def count_letters(filepath):\n",
    "    with open(filepath, 'r') as f:\n",
    "        content = f.read()\n",
    "        letter_count = Counter(content)\n",
    "        for letter, count in letter_count.items():\n",
    "            print(f\"{letter}: {count}\")\n",
    "\n",
    "filepath = input(\"Enter the file path: \")\n",
    "count_letters(filepath)"
   ]
  },
  {
   "cell_type": "code",
   "execution_count": 19,
   "id": "d23dc5d3",
   "metadata": {},
   "outputs": [
    {
     "name": "stdout",
     "output_type": "stream",
     "text": [
      "Enter the input file path: C:/Users/egypt/OneDrive/سطح المكتب/newfile.txt\n",
      "Enter the output file path: C:/Users/egypt/OneDrive/سطح المكتب/newfile.txt\n",
      "File copied successfully!\n"
     ]
    }
   ],
   "source": [
    "import csv\n",
    "\n",
    "def copy_csv(input_file, output_file):\n",
    "    with open(input_file, 'r') as input_csv, open(output_file, 'w') as output_csv:\n",
    "        reader = csv.reader(input_csv)\n",
    "        writer = csv.writer(output_csv)\n",
    "        for row in reader:\n",
    "            writer.writerow(row)\n",
    "\n",
    "input_file = input(\"Enter the input file path: \")\n",
    "output_file = input(\"Enter the output file path: \")\n",
    "copy_csv(input_file, output_file)\n",
    "print(\"File copied successfully!\")"
   ]
  },
  {
   "cell_type": "code",
   "execution_count": 20,
   "id": "5e0c6844",
   "metadata": {},
   "outputs": [
    {
     "name": "stdout",
     "output_type": "stream",
     "text": [
      "Data written to employee.csv successfully\n"
     ]
    }
   ],
   "source": [
    "import csv\n",
    "\n",
    "data = [[\"emp_name\", \"sal\", \"dept\"],\n",
    "        ['a', 100, 'cs'],\n",
    "        ['b', 200, 'is'],\n",
    "        ['c', 300, 'cs'],\n",
    "        ['d', 400, 'ds'],\n",
    "        ['e', 500, 'cs'],\n",
    "        ['f', 600, 'cs']]\n",
    "\n",
    "filename = \"employee.csv\"\n",
    "\n",
    "with open(filename, 'w', newline='') as csvfile:\n",
    "    csvwriter = csv.writer(csvfile)\n",
    "    csvwriter.writerows(data)\n",
    "\n",
    "print(f\"Data written to {filename} successfully\")"
   ]
  },
  {
   "cell_type": "code",
   "execution_count": 21,
   "id": "f5e044d1",
   "metadata": {},
   "outputs": [
    {
     "name": "stdout",
     "output_type": "stream",
     "text": [
      "Number of employees in cs department: 4\n"
     ]
    }
   ],
   "source": [
    "import csv\n",
    "\n",
    "def count_cs_employees():\n",
    "    cs_count = 0\n",
    "    with open(\"employee.csv\", 'r') as csvfile:\n",
    "        reader = csv.reader(csvfile)\n",
    "        next(reader, None)  # skip the header\n",
    "        for row in reader:\n",
    "            if row[2] == \"cs\":\n",
    "                cs_count += 1\n",
    "    return cs_count\n",
    "\n",
    "print(\"Number of employees in cs department:\", count_cs_employees())\n"
   ]
  },
  {
   "cell_type": "code",
   "execution_count": null,
   "id": "8afdae4c",
   "metadata": {},
   "outputs": [],
   "source": [
    "####################################"
   ]
  }
 ],
 "metadata": {
  "kernelspec": {
   "display_name": "Python 3 (ipykernel)",
   "language": "python",
   "name": "python3"
  },
  "language_info": {
   "codemirror_mode": {
    "name": "ipython",
    "version": 3
   },
   "file_extension": ".py",
   "mimetype": "text/x-python",
   "name": "python",
   "nbconvert_exporter": "python",
   "pygments_lexer": "ipython3",
   "version": "3.9.7"
  }
 },
 "nbformat": 4,
 "nbformat_minor": 5
}
