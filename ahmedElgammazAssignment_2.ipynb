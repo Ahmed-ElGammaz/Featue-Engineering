{
  "cells": [
    {
      "cell_type": "markdown",
      "metadata": {
        "id": "view-in-github",
        "colab_type": "text"
      },
      "source": [
        "<a href=\"https://colab.research.google.com/github/Ahmed-ElGammaz/Featue-Engineering/blob/main/ahmedElgammazAssignment_2.ipynb\" target=\"_parent\"><img src=\"https://colab.research.google.com/assets/colab-badge.svg\" alt=\"Open In Colab\"/></a>"
      ]
    },
    {
      "cell_type": "code",
      "execution_count": null,
      "id": "be3907cc",
      "metadata": {
        "scrolled": true,
        "id": "be3907cc",
        "outputId": "a36bc057-a7c0-46ff-87ee-44aaaa8a6d47"
      },
      "outputs": [
        {
          "name": "stdout",
          "output_type": "stream",
          "text": [
            "a>50 & a!=b\n"
          ]
        }
      ],
      "source": [
        "a=500\n",
        "b=300\n",
        "if a==b:\n",
        "  print (\"a=b\") \n",
        "if a>50 :\n",
        "  print(\"a>50 & a!=b\")\n",
        "else:\n",
        "  print(\"a<=50 & a!=b\")"
      ]
    },
    {
      "cell_type": "code",
      "execution_count": null,
      "id": "f71c4d51",
      "metadata": {
        "id": "f71c4d51",
        "outputId": "3b86f52c-825d-419c-b44d-2b9e197def18"
      },
      "outputs": [
        {
          "name": "stdout",
          "output_type": "stream",
          "text": [
            "a>50 & a!=b\n"
          ]
        }
      ],
      "source": [
        "print (\"a=b\") if a==b else print(\"a>50 & a!=b\") if a>50 else print(\"a<=50 & a!=b\")"
      ]
    },
    {
      "cell_type": "code",
      "execution_count": null,
      "id": "6181db93",
      "metadata": {
        "id": "6181db93",
        "outputId": "5bfe3a74-05ed-4de4-da96-4179cb672ed3"
      },
      "outputs": [
        {
          "name": "stdout",
          "output_type": "stream",
          "text": [
            "i less than 15\n"
          ]
        }
      ],
      "source": [
        "i=10\n",
        "if i < 15:\n",
        "  print(\"i less than 15\" )"
      ]
    },
    {
      "cell_type": "code",
      "execution_count": null,
      "id": "8315c9c3",
      "metadata": {
        "id": "8315c9c3",
        "outputId": "1085f49d-28b2-4a28-df5b-8b8a84556724"
      },
      "outputs": [
        {
          "name": "stdout",
          "output_type": "stream",
          "text": [
            "i less than 15\n"
          ]
        }
      ],
      "source": [
        "if i < 15:print(\"i less than 15\" )"
      ]
    },
    {
      "cell_type": "code",
      "execution_count": null,
      "id": "efc75bd9",
      "metadata": {
        "id": "efc75bd9",
        "outputId": "57c2286f-dfac-4157-bd44-7b05f18572e3"
      },
      "outputs": [
        {
          "name": "stdout",
          "output_type": "stream",
          "text": [
            "True\n"
          ]
        }
      ],
      "source": [
        "i=10\n",
        "if i<15:\n",
        "   print(\"True\" )\n",
        "else:\n",
        "  print(\"False\" )"
      ]
    },
    {
      "cell_type": "code",
      "execution_count": null,
      "id": "d0fa5ab5",
      "metadata": {
        "id": "d0fa5ab5",
        "outputId": "a33d1212-c2df-4d1f-df96-bd4615794041"
      },
      "outputs": [
        {
          "name": "stdout",
          "output_type": "stream",
          "text": [
            "True\n"
          ]
        }
      ],
      "source": [
        "print(\"True\") if i<15 else print(\"False\")"
      ]
    },
    {
      "cell_type": "code",
      "execution_count": null,
      "id": "b9f495c0",
      "metadata": {
        "id": "b9f495c0",
        "outputId": "48c90291-c3ec-4f72-8ffb-2ece65758b51"
      },
      "outputs": [
        {
          "name": "stdout",
          "output_type": "stream",
          "text": [
            "[1, 2, 3, 5, 6]\n"
          ]
        }
      ],
      "source": [
        "x=[1,2,3,5,6]\n",
        "y=[]\n",
        "for i in range (len(x)):\n",
        "  y[i:]= [x[i]]\n",
        "print(y)"
      ]
    },
    {
      "cell_type": "code",
      "execution_count": null,
      "id": "57458e59",
      "metadata": {
        "id": "57458e59",
        "outputId": "9e0afb9e-6d29-4e32-da7d-9fb1ac01f89e"
      },
      "outputs": [
        {
          "name": "stdout",
          "output_type": "stream",
          "text": [
            "[1, 2, 3, 5, 6]\n"
          ]
        }
      ],
      "source": [
        "print([x[i] for i in range (len(x))])"
      ]
    },
    {
      "cell_type": "code",
      "execution_count": null,
      "id": "4fab2489",
      "metadata": {
        "id": "4fab2489",
        "outputId": "36e7448f-a98e-441c-f069-ff8ae5f5833e"
      },
      "outputs": [
        {
          "name": "stdout",
          "output_type": "stream",
          "text": [
            "[1, 2, 3, 4, 5, 'e']\n"
          ]
        }
      ],
      "source": [
        "x=[1,2,3,4,5,6]\n",
        "y=['a','b','c','d','e']\n",
        "z=[]\n",
        "for i in range (len(x)):\n",
        "  for j in range (len(y)):\n",
        "    if i==j:\n",
        "        z[i:]=(x[i],y[j])\n",
        "print(z)"
      ]
    },
    {
      "cell_type": "code",
      "execution_count": null,
      "id": "c5516b37",
      "metadata": {
        "id": "c5516b37",
        "outputId": "3b8a5ada-a403-4071-d21e-5f63e4a8c511"
      },
      "outputs": [
        {
          "name": "stdout",
          "output_type": "stream",
          "text": [
            "[(1, 'a'), (2, 'b'), (3, 'c'), (4, 'd'), (5, 'e')]\n"
          ]
        }
      ],
      "source": [
        "print([(x[i],y[j]) for i in range (len(x)) for j in range (len(y)) if i==j])"
      ]
    },
    {
      "cell_type": "code",
      "execution_count": null,
      "id": "b7359965",
      "metadata": {
        "id": "b7359965",
        "outputId": "bd3e5bc6-eb4f-4dd9-f89d-dfa41164f394"
      },
      "outputs": [
        {
          "name": "stdout",
          "output_type": "stream",
          "text": [
            "[1, 'b', 'c', 'd', 'e', 'a', 2, 'c', 'd', 'e', 'a', 'b', 3, 'd', 'e', 'a', 'b', 'c', 4, 'e', 'a', 'b', 'c', 'd', 5, 'a', 'b', 'c', 'd', 'e', 6]\n"
          ]
        }
      ],
      "source": [
        "x=[1,2,3,4,5,6]\n",
        "y=['a','b','c','d','e']\n",
        "k=0\n",
        "z=[]\n",
        "for i in range (len(x)):\n",
        "  for j in range (len(y)):\n",
        "    if i==j:\n",
        "      z[k:]=(x[i],y[j])\n",
        "    else:\n",
        "      z[k:]=(y[j],x[i])\n",
        "    k=k+1\n",
        "print(z)"
      ]
    },
    {
      "cell_type": "code",
      "execution_count": null,
      "id": "a228ac4e",
      "metadata": {
        "id": "a228ac4e"
      },
      "outputs": [],
      "source": [
        "print([(x[i],y[j]) for i in range (len(x)) for j in range (len(y))] if i==j else (y[j],x[i]) k=k+1)"
      ]
    },
    {
      "cell_type": "code",
      "execution_count": null,
      "id": "aa01b9bb",
      "metadata": {
        "id": "aa01b9bb",
        "outputId": "04dc6aa0-6bd8-43ea-d9dd-48e460d3c44e"
      },
      "outputs": [
        {
          "name": "stdout",
          "output_type": "stream",
          "text": [
            "[1, 'b', 'c', 'd', 'e', 'a', 2, 'c', 'd', 'e', (2, 2), (2, 2), 3, (2, 2), (2, 2), 'a', 'b', 'c', 4, 'e', 'a', 'b', 'c', 'd', 5, 'a', 'b', 'c', 'd', 'e', 6]\n"
          ]
        }
      ],
      "source": [
        "x=[1,2,3,4,5,6]\n",
        "y=['a','b','c','d','e']\n",
        "k=0\n",
        "z=[]\n",
        "for i in range (len(x)):\n",
        "  for j in range (len(y)):\n",
        "    if i==j:\n",
        "      z[k:]=(x[i],y[j])\n",
        "    elif i==2:\n",
        "      z[k:]=[(2,2)]\n",
        "    else:\n",
        "      z[k:]=(y[j],x[i])\n",
        "    k=k+1\n",
        "print(z)"
      ]
    },
    {
      "cell_type": "code",
      "execution_count": null,
      "id": "09447528",
      "metadata": {
        "id": "09447528"
      },
      "outputs": [],
      "source": [
        "print([(x[i],y[j]) for i in range (len(x)) for j in range (len(y)) if i==j] (2,2) elif i==2 else (y[j],x[i]) k=k+1)"
      ]
    },
    {
      "cell_type": "code",
      "execution_count": null,
      "id": "b7d1ea38",
      "metadata": {
        "id": "b7d1ea38",
        "outputId": "18bb5f36-86e5-4b50-c01a-217953b66a56"
      },
      "outputs": [
        {
          "name": "stdout",
          "output_type": "stream",
          "text": [
            "[[1, 2, 3], [4, 5, 6], [7, 8, 9], [10, 11, 12]]\n"
          ]
        }
      ],
      "source": [
        "x=[[1,2,3],[4,5,6],[7,8,9],[10,11,12]]\n",
        "y=[]\n",
        "for i in range (len(x)):\n",
        "  z=[]\n",
        "  for j in range(len(x[i])):  \n",
        "    z[j:]=[x[i][j]]\n",
        "  y[i:]=[z]\n",
        "print(y) "
      ]
    },
    {
      "cell_type": "code",
      "execution_count": null,
      "id": "331fbc00",
      "metadata": {
        "id": "331fbc00"
      },
      "outputs": [],
      "source": [
        "print([x[i][j]] for i in range (len(x)) for j in range(len(x[i])) [z])"
      ]
    },
    {
      "cell_type": "code",
      "execution_count": null,
      "id": "3a8bd51d",
      "metadata": {
        "id": "3a8bd51d"
      },
      "outputs": [],
      "source": []
    },
    {
      "cell_type": "code",
      "execution_count": null,
      "id": "e3cee371",
      "metadata": {
        "id": "e3cee371",
        "outputId": "5dddff45-4491-4e70-cdf6-984914910644"
      },
      "outputs": [
        {
          "name": "stdout",
          "output_type": "stream",
          "text": [
            "[1, 2, 3, 4, 5, 6]\n"
          ]
        }
      ],
      "source": [
        "x=[1,2,3,4,5,6]\n",
        "y=[x[i] for i in range (len(x))]\n",
        "print(y)"
      ]
    },
    {
      "cell_type": "code",
      "execution_count": null,
      "id": "af8a05af",
      "metadata": {
        "id": "af8a05af",
        "outputId": "9b38d42c-6f19-4b0e-dbe0-80cd3860d0ee"
      },
      "outputs": [
        {
          "name": "stdout",
          "output_type": "stream",
          "text": [
            "[(1, 'a'), (2, 'b'), (3, 'c'), (4, 'd'), (5, 'e')]\n"
          ]
        }
      ],
      "source": [
        "x=[1,2,3,4,5,6]\n",
        "y=[\"a\",\"b\",\"c\",\"d\",\"e\"]\n",
        "z=[(x[i],y[i]) for i in range(len(x)) for j in range(len(y)) if i==j ]\n",
        "print(z)"
      ]
    },
    {
      "cell_type": "code",
      "execution_count": null,
      "id": "af48f6b3",
      "metadata": {
        "id": "af48f6b3"
      },
      "outputs": [],
      "source": []
    },
    {
      "cell_type": "code",
      "execution_count": null,
      "id": "100d604f",
      "metadata": {
        "id": "100d604f"
      },
      "outputs": [],
      "source": []
    },
    {
      "cell_type": "code",
      "execution_count": null,
      "id": "21695663",
      "metadata": {
        "id": "21695663"
      },
      "outputs": [],
      "source": []
    }
  ],
  "metadata": {
    "kernelspec": {
      "display_name": "Python 3 (ipykernel)",
      "language": "python",
      "name": "python3"
    },
    "language_info": {
      "codemirror_mode": {
        "name": "ipython",
        "version": 3
      },
      "file_extension": ".py",
      "mimetype": "text/x-python",
      "name": "python",
      "nbconvert_exporter": "python",
      "pygments_lexer": "ipython3",
      "version": "3.9.7"
    },
    "colab": {
      "provenance": [],
      "include_colab_link": true
    }
  },
  "nbformat": 4,
  "nbformat_minor": 5
}