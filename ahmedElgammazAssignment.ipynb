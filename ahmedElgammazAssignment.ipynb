{
  "cells": [
    {
      "cell_type": "markdown",
      "metadata": {
        "id": "view-in-github",
        "colab_type": "text"
      },
      "source": [
        "<a href=\"https://colab.research.google.com/github/Ahmed-ElGammaz/Featue-Engineering/blob/main/ahmedElgammazAssignment.ipynb\" target=\"_parent\"><img src=\"https://colab.research.google.com/assets/colab-badge.svg\" alt=\"Open In Colab\"/></a>"
      ]
    },
    {
      "cell_type": "markdown",
      "id": "b257aa61",
      "metadata": {
        "id": "b257aa61"
      },
      "source": [
        "## Assignment"
      ]
    },
    {
      "cell_type": "markdown",
      "id": "4f6721dc",
      "metadata": {
        "id": "4f6721dc"
      },
      "source": [
        "### Question 1:\n",
        "Write a python program to input an alphabet and check whether it is vowel or consonant. Note: Vowel alphabets are: {a, e, o, u, i} All other alphabets are consonant"
      ]
    },
    {
      "cell_type": "code",
      "execution_count": null,
      "id": "791a2001",
      "metadata": {
        "id": "791a2001",
        "outputId": "da326b5f-e821-40fa-aeb0-56098af9abb5"
      },
      "outputs": [
        {
          "name": "stdout",
          "output_type": "stream",
          "text": [
            "Please insert an alphabet:1\n",
            "1 is a consonant alphabet.\n"
          ]
        }
      ],
      "source": [
        "# Take letter input from user.\n",
        "letters = input(\"Please insert an alphabet:\")\n",
        "\n",
        "# make a list that has vowel alphabets.\n",
        "v = [\"a\",\"e\",\"o\",\"u\",\"i\"]\n",
        "\n",
        "# make a condition by using if.\n",
        "if letters.lower() in v:\n",
        "    print(f\"{letters} is a vowel alphabet.\")\n",
        "else:\n",
        "    print(f\"{letters} is a consonant alphabet.\")"
      ]
    },
    {
      "cell_type": "markdown",
      "id": "d3a0842c",
      "metadata": {
        "id": "d3a0842c"
      },
      "source": [
        "### Question 2:\n",
        "\n",
        "Write a python program that prompts the user to input a number. The program should then output this number and a message saying whether it is even or odd. "
      ]
    },
    {
      "cell_type": "code",
      "execution_count": null,
      "id": "c4d07ec0",
      "metadata": {
        "id": "c4d07ec0",
        "outputId": "8b516df6-1469-476f-d520-fb7e2e014054"
      },
      "outputs": [
        {
          "name": "stdout",
          "output_type": "stream",
          "text": [
            "Please insert a number:2\n",
            "2 is an even number.\n"
          ]
        }
      ],
      "source": [
        "# Take number input from user.\n",
        "num = int(input(\"Please insert a number:\"))   # make a casting to convert from any type to integer\n",
        "\n",
        "# make a condition by using if.\n",
        "if num %2 == 0:   \n",
        "    print(f\"{num} is an even number.\")\n",
        "else:\n",
        "    print(f\"{num} is an odd number.\")"
      ]
    },
    {
      "cell_type": "markdown",
      "id": "3bd10148",
      "metadata": {
        "id": "3bd10148"
      },
      "source": [
        "### Question 3:\n",
        "Write a python program to input a character from user and check whether\n",
        "the given character is alphabet, digit or special character."
      ]
    },
    {
      "cell_type": "code",
      "execution_count": null,
      "id": "154b8174",
      "metadata": {
        "id": "154b8174",
        "outputId": "87c72fb9-b524-4c23-e197-e331849066d0"
      },
      "outputs": [
        {
          "name": "stdout",
          "output_type": "stream",
          "text": [
            "Please insert any character: 2\n",
            "2 is a digit.\n"
          ]
        }
      ],
      "source": [
        "# Take character input from user.\n",
        "cr = input(\"Please insert any character: \")\n",
        "\n",
        "# Check for alphabet and digit.\n",
        "if cr.isalpha():   # using function\n",
        "    print(f\"{cr} is an alphabet.\")\n",
        "elif cr.isdigit():  # using function\n",
        "    print(f\"{cr} is a digit.\")\n",
        "else :\n",
        "    print(f\"{cr} is a special character.\")"
      ]
    },
    {
      "cell_type": "markdown",
      "id": "1643931e",
      "metadata": {
        "id": "1643931e"
      },
      "source": [
        "### Question 4:\n",
        "Write a python program that prompts the user to input a number. The program should then output this number and a message saying whether it\n",
        "is positive, negative, or zero."
      ]
    },
    {
      "cell_type": "code",
      "execution_count": null,
      "id": "99827cff",
      "metadata": {
        "id": "99827cff",
        "outputId": "ee906911-77ad-4d52-b19e-d11c53344f6f"
      },
      "outputs": [
        {
          "name": "stdout",
          "output_type": "stream",
          "text": [
            "Please insert a number:2\n",
            "2 is a positive number.\n"
          ]
        }
      ],
      "source": [
        "# Take number input from user.\n",
        "num = int(input(\"Please insert a number:\"))   # make a casting to convert from any type to integer\n",
        "\n",
        "# make a condition by using if.\n",
        "if num > 0:   \n",
        "    print(f\"{num} is a positive number.\")\n",
        "elif num < 0:\n",
        "    print(f\"{num} is a negative number.\")\n",
        "else:\n",
        "    print(f\"{num} is zero.\")"
      ]
    },
    {
      "cell_type": "markdown",
      "id": "517dadb8",
      "metadata": {
        "id": "517dadb8"
      },
      "source": [
        "### Question 5:\n",
        "\n",
        "Write a python program of a four-function calculator. The program should ask the user to enter a number, an operator, and another number. It\n",
        "should then carry out the specified arithmetical operation: adding, subtracting, multiplying, or dividing the two numbers."
      ]
    },
    {
      "cell_type": "code",
      "execution_count": null,
      "id": "c31b089b",
      "metadata": {
        "id": "c31b089b",
        "outputId": "fc46d2ad-fc57-46cd-b9f4-e0d6c2bf591b"
      },
      "outputs": [
        {
          "name": "stdout",
          "output_type": "stream",
          "text": [
            "Please insert the first number:2\n",
            "Please insert the operation:*\n",
            "Please insert the second number:2\n",
            "2 * 2 = 4\n"
          ]
        }
      ],
      "source": [
        "# Take the first number input from user.\n",
        "num1 = int(input(\"Please insert the first number:\"))   # make a casting to convert from any type to integer\n",
        "\n",
        "# Take the first number input from user.\n",
        "op = input(\"Please insert the operation:\")  \n",
        "\n",
        "# Take the second number input from user.\n",
        "num2 = int(input(\"Please insert the second number:\"))   # make a casting to convert from any type to integer\n",
        "\n",
        "# make a condition by using if.\n",
        "if op == \"+\":   \n",
        "    print(f\"{num1} {op} {num2} = {num1 + num2}\" )\n",
        "elif op == \"-\":   \n",
        "    print(f\"{num1} {op} {num2} = {num1 - num2}\" )\n",
        "elif op == \"*\":   \n",
        "    print(f\"{num1} {op} {num2} = {num1 * num2}\" )\n",
        "elif op == \"/\":\n",
        "    print(f\"{num1} {op} {num2} = {num1 / num2}\" )\n",
        "else:\n",
        "    print(\"That is not a right operation, please enter a mathematic operation from [ + , - , * , / ]\")"
      ]
    },
    {
      "cell_type": "markdown",
      "id": "55623105",
      "metadata": {
        "id": "55623105"
      },
      "source": [
        "### Question 6:\n",
        "\n",
        "Write a python program that will prompt the user to input 5 integer values\n",
        "to be stored in a list."
      ]
    },
    {
      "cell_type": "code",
      "execution_count": null,
      "id": "c08247cc",
      "metadata": {
        "id": "c08247cc",
        "outputId": "165c01f4-c7b7-447a-ea4c-0e364f69255a"
      },
      "outputs": [
        {
          "name": "stdout",
          "output_type": "stream",
          "text": [
            "insert a number at index 0\n",
            "1\n",
            "insert a number at index 1\n",
            "1\n",
            "insert a number at index 2\n",
            "1\n",
            "insert a number at index 3\n",
            "1\n",
            "insert a number at index 4\n",
            "1\n",
            "The new list is  [1, 1, 1, 1, 1]\n"
          ]
        }
      ],
      "source": [
        "# make an empty list.\n",
        "lis = []\n",
        "\n",
        "# make for loop.\n",
        "for i in range(5):\n",
        "    print(\"insert a number at index\", i, )\n",
        "    item = int(input())    \n",
        "    lis.append(item)       # using append to add any item to the list\n",
        "    \n",
        "print(\"The new list is \", lis)"
      ]
    },
    {
      "cell_type": "markdown",
      "id": "4072719d",
      "metadata": {
        "id": "4072719d"
      },
      "source": [
        "### Question 7:\n",
        "\n",
        "Write a python program that print the values of a list."
      ]
    },
    {
      "cell_type": "code",
      "execution_count": null,
      "id": "661287e0",
      "metadata": {
        "id": "661287e0",
        "outputId": "086e5c4f-1522-4900-e92e-88350b241e9b"
      },
      "outputs": [
        {
          "name": "stdout",
          "output_type": "stream",
          "text": [
            "1\n",
            "a\n",
            "2\n",
            "b\n",
            "3\n",
            "c\n"
          ]
        }
      ],
      "source": [
        "# the list.\n",
        "lis = [1 , \"a\" , 2 , \"b\" , 3 , \"c\"]\n",
        "\n",
        "#make a loop.\n",
        "for i in lis:\n",
        "    print(i)"
      ]
    },
    {
      "cell_type": "markdown",
      "id": "b46cabf2",
      "metadata": {
        "id": "b46cabf2"
      },
      "source": [
        "### Question 8:\n",
        "\n",
        "Write a python program that print the values of a list in a reverse order. "
      ]
    },
    {
      "cell_type": "code",
      "execution_count": null,
      "id": "a234b226",
      "metadata": {
        "id": "a234b226",
        "outputId": "057db00a-678e-4c26-bc2a-a3bf51f1e6e6"
      },
      "outputs": [
        {
          "name": "stdout",
          "output_type": "stream",
          "text": [
            "c\n",
            "3\n",
            "b\n",
            "2\n",
            "a\n",
            "1\n"
          ]
        }
      ],
      "source": [
        "# the list.\n",
        "lis = [1 , \"a\" , 2 , \"b\" , 3 , \"c\"]\n",
        "\n",
        "# make a loop.\n",
        "for i in reversed(lis):   # using reversed to reverse the list\n",
        "    print(i)"
      ]
    },
    {
      "cell_type": "markdown",
      "id": "b7e30afc",
      "metadata": {
        "id": "b7e30afc"
      },
      "source": [
        "### Question 9:\n",
        "\n",
        "Write a python program that will prompt the user to input a list of 5\n",
        "integer values. Then it print their summation and average. "
      ]
    },
    {
      "cell_type": "code",
      "execution_count": null,
      "id": "91842050",
      "metadata": {
        "id": "91842050",
        "outputId": "1baac906-99a5-4147-ddff-9a9017c34164"
      },
      "outputs": [
        {
          "name": "stdout",
          "output_type": "stream",
          "text": [
            "Please insert a value:\n",
            "1\n",
            "Please insert a value:\n",
            "1\n",
            "Please insert a value:\n",
            "1\n",
            "Please insert a value:\n",
            "1\n",
            "Please insert a value:\n",
            "1\n",
            "The summation of the values is 5 and the average is 1.0.\n"
          ]
        }
      ],
      "source": [
        "# make a variable.\n",
        "s = 0\n",
        "\n",
        "# make a for loop.\n",
        "for i in range(5):\n",
        "    print(\"Please insert a value:\")\n",
        "    n = int(input())    \n",
        "    s += n\n",
        "print(f\"The summation of the values is {s} and the average is {s/5}.\")\n"
      ]
    },
    {
      "cell_type": "markdown",
      "id": "61103c52",
      "metadata": {
        "id": "61103c52"
      },
      "source": [
        "### Question 10:\n",
        "\n",
        "Write a python program that will prompt the user to input a list of 5\n",
        "integer values. Then it print the summation and average of its contained\n",
        "even numbers. "
      ]
    },
    {
      "cell_type": "code",
      "execution_count": null,
      "id": "203a8b03",
      "metadata": {
        "id": "203a8b03",
        "outputId": "f37d0c8b-ed2c-4768-859f-09c3401df932"
      },
      "outputs": [
        {
          "name": "stdout",
          "output_type": "stream",
          "text": [
            "Please insert a value:\n",
            "1\n",
            "Please insert a value:\n",
            "2\n",
            "Please insert a value:\n",
            "3\n",
            "Please insert a value:\n",
            "4\n",
            "Please insert a value:\n",
            "5\n",
            "The summation of the values is 6 and the average is 3.0.\n"
          ]
        }
      ],
      "source": [
        "# make a list to be a container.\n",
        "s = []\n",
        "\n",
        "# make a for loop.\n",
        "for i in range(5):\n",
        "    print(\"Please insert a value:\")\n",
        "    n = int(input())  \n",
        "    if n %2 == 0:   # to take just the even number\n",
        "        s.append(n)\n",
        "print(f\"The summation of the values is {sum(s)} and the average is {sum(s)/len(s)}.\")"
      ]
    },
    {
      "cell_type": "markdown",
      "id": "632ac941",
      "metadata": {
        "id": "632ac941"
      },
      "source": [
        "### Question 11:\n",
        "    \n",
        "Write a python program that will prompt the user to input a list of 5\n",
        "integer values. Then it print its maximum and minimum values. "
      ]
    },
    {
      "cell_type": "code",
      "execution_count": null,
      "id": "de6a0936",
      "metadata": {
        "id": "de6a0936",
        "outputId": "79c0254f-e862-4655-e3e2-dcee2a6caab5"
      },
      "outputs": [
        {
          "name": "stdout",
          "output_type": "stream",
          "text": [
            "Please insert a value:\n",
            "21\n",
            "Please insert a value:\n",
            "10\n",
            "Please insert a value:\n",
            "34\n",
            "Please insert a value:\n",
            "18\n",
            "Please insert a value:\n",
            "9\n",
            "The minimum value is 9 and the maximum value is 34.\n"
          ]
        }
      ],
      "source": [
        "# make a list to be a container.\n",
        "s = []\n",
        "\n",
        "# make a for loop.\n",
        "for i in range(5):\n",
        "    print(\"Please insert a value:\")\n",
        "    n = int(input())  \n",
        "    s.append(n)\n",
        "    m = sorted(s)    # using sorted function to sort the values in the list from min to max (ascending)\n",
        "print(f\"The minimum value is {m[0]} and the maximum value is {m[-1]}.\")"
      ]
    },
    {
      "cell_type": "markdown",
      "id": "582525d2",
      "metadata": {
        "id": "582525d2"
      },
      "source": [
        "### Question 12:\n",
        "\n",
        "Write a python program that will prompt the user to input a list of 5\n",
        "integer values. Then it ask the user to enter a number to check whether or\n",
        "not this number is found in the list or not. \n"
      ]
    },
    {
      "cell_type": "code",
      "execution_count": null,
      "id": "22a0a1c7",
      "metadata": {
        "id": "22a0a1c7",
        "outputId": "1c69c624-c3fd-4469-b4c1-ba049c54dc65"
      },
      "outputs": [
        {
          "name": "stdout",
          "output_type": "stream",
          "text": [
            "Please insert a value:\n",
            "1\n",
            "Please insert a value:\n",
            "2\n",
            "Please insert a value:\n",
            "3\n",
            "Please insert a value:\n",
            "4\n",
            "Please insert a value:\n",
            "5\n",
            "---------------------------------------------------------------------------------\n",
            "Please insert a new value to chek if this value into your list or not:4\n",
            "---------------------------------------------------------------------------------\n",
            "the number 4 is into your list.\n"
          ]
        }
      ],
      "source": [
        "# make a list to be a container.\n",
        "s = []\n",
        "\n",
        "# make a for loop.\n",
        "for i in range(5):\n",
        "    print(\"Please insert a value:\")\n",
        "    n = int(input())  \n",
        "    s.append(n)\n",
        "print(\"---------------------------------------------------------------------------------\")\n",
        "# checking if the new input is into the list on no\n",
        "new = int(input(\"Please insert a new value to chek if this value into your list or not:\"))\n",
        "print(\"---------------------------------------------------------------------------------\")\n",
        "if new in s:\n",
        "    print(f\"the number {new} is into your list.\")\n",
        "else:\n",
        "    print(f\"the number {new} is not into your the list.\")"
      ]
    },
    {
      "cell_type": "markdown",
      "id": "26aeaca9",
      "metadata": {
        "id": "26aeaca9"
      },
      "source": [
        "### Question 13:\n",
        "    \n",
        "Write a python program that will prompt the user to input an index of a\n",
        "list to print its value."
      ]
    },
    {
      "cell_type": "code",
      "execution_count": null,
      "id": "b5b17e7e",
      "metadata": {
        "id": "b5b17e7e",
        "outputId": "182efa7b-261f-45a1-832d-b2f79fb62bf9"
      },
      "outputs": [
        {
          "name": "stdout",
          "output_type": "stream",
          "text": [
            "Please enter the index: 4\n",
            "---------------------------------------------------------------------------------\n",
            "The value of index 4 is 3\n"
          ]
        }
      ],
      "source": [
        "# the list.\n",
        "my_list = [1 , \"a\" , 2 , \"b\" , 3 , \"c\"]\n",
        "\n",
        "index = int(input(\"Please enter the index: \"))\n",
        "print(\"---------------------------------------------------------------------------------\")\n",
        "print(f\"The value of index {index} is {my_list[index]}\")"
      ]
    },
    {
      "cell_type": "markdown",
      "id": "2b0a3eac",
      "metadata": {
        "id": "2b0a3eac"
      },
      "source": [
        "### Question 14:\n",
        "\n",
        "Write a python program that will prompt the user to input a list of 5\n",
        "integer values. Then it count the number of occurrence of the given\n",
        "number in such list."
      ]
    },
    {
      "cell_type": "code",
      "execution_count": null,
      "id": "e06bbf19",
      "metadata": {
        "id": "e06bbf19",
        "outputId": "fe371bfc-78a9-48e6-b674-4ab641a62820"
      },
      "outputs": [
        {
          "name": "stdout",
          "output_type": "stream",
          "text": [
            "Please insert a value:\n",
            "1\n",
            "Please insert a value:\n",
            "1\n",
            "Please insert a value:\n",
            "1\n",
            "Please insert a value:\n",
            "1\n",
            "Please insert a value:\n",
            "1\n",
            "---------------------------------------------------------------------------------\n",
            "Please enter a number to get the counting of this number in the list:1\n",
            "---------------------------------------------------------------------------------\n",
            "1 has occurred 5 times\n"
          ]
        }
      ],
      "source": [
        "# make a list to be a container.\n",
        "s = []\n",
        "\n",
        "# make a for loop.\n",
        "for i in range(5):\n",
        "    print(\"Please insert a value:\")\n",
        "    n = int(input())  \n",
        "    s.append(n)\n",
        "print(\"---------------------------------------------------------------------------------\")\n",
        "\n",
        "from collections import Counter\n",
        "d = Counter(s)\n",
        "check = int(input(\"Please enter a number to get the counting of it in the list:\"))\n",
        "\n",
        "print(\"---------------------------------------------------------------------------------\")\n",
        "\n",
        "print('{} has occurred {} times'.format(check, d[check]))"
      ]
    },
    {
      "cell_type": "markdown",
      "id": "afa10dfc",
      "metadata": {
        "id": "afa10dfc"
      },
      "source": [
        "### Question 15:\n",
        "\n",
        "Write a python program that merge two lists."
      ]
    },
    {
      "cell_type": "code",
      "execution_count": null,
      "id": "d04a97a2",
      "metadata": {
        "id": "d04a97a2",
        "outputId": "596845a2-e45c-4e38-9ce3-07f7f9b0c3bf"
      },
      "outputs": [
        {
          "name": "stdout",
          "output_type": "stream",
          "text": [
            "[1, 2, 3, 4, 5, 6, 7, 8, 9, 10]\n"
          ]
        }
      ],
      "source": [
        "# make two lists.\n",
        "list1 = [1,2,3,4,5]\n",
        "list2 = [6,7,8,9,10]\n",
        "\n",
        "# merge_lists = list1 + list2   basic one\n",
        "\n",
        "list1.extend(list2)    # merge by extend function\n",
        "\n",
        "print(list1)"
      ]
    },
    {
      "cell_type": "markdown",
      "id": "c81a35e6",
      "metadata": {
        "id": "c81a35e6"
      },
      "source": [
        "### Question 16:\n",
        "    \n",
        "Write a python program that will prompt the user to input a list of 5\n",
        "integer values. Then it splits the list into two lists; the first will contains\n",
        "even numbers while the other will contain odd numbers."
      ]
    },
    {
      "cell_type": "code",
      "execution_count": null,
      "id": "4706ff79",
      "metadata": {
        "id": "4706ff79",
        "outputId": "c00d84c5-ae37-48cd-cd54-d6c8c71ed72a"
      },
      "outputs": [
        {
          "name": "stdout",
          "output_type": "stream",
          "text": [
            "Please insert a value:\n",
            "3\n",
            "Please insert a value:\n",
            "1\n",
            "Please insert a value:\n",
            "5\n",
            "Please insert a value:\n",
            "7\n",
            "Please insert a value:\n",
            "9\n",
            "---------------------------------------------------------------------------------\n",
            "The even list is []\n",
            "---------------------------------------------------------------------------------\n",
            "The odd list is [3, 1, 5, 7, 9]\n",
            "---------------------------------------------------------------------------------\n"
          ]
        }
      ],
      "source": [
        "# make three lists to be containers.\n",
        "s = []\n",
        "ev = []\n",
        "od = []\n",
        "# make a for loop.\n",
        "for i in range(5):\n",
        "    print(\"Please insert a value:\")\n",
        "    n = int(input())  \n",
        "    s.append(n)\n",
        "print(\"---------------------------------------------------------------------------------\")\n",
        "\n",
        "for i in s:\n",
        "    if i %2 ==0:\n",
        "        ev.append(i)\n",
        "    else:\n",
        "        od.append(i)\n",
        "print(f\"The even list is {ev}\")\n",
        "print(\"---------------------------------------------------------------------------------\")\n",
        "\n",
        "print(f\"The odd list is {od}\")\n",
        "print(\"---------------------------------------------------------------------------------\")\n"
      ]
    },
    {
      "cell_type": "markdown",
      "id": "143edc6b",
      "metadata": {
        "id": "143edc6b"
      },
      "source": [
        "### Question 17:\n",
        "\n",
        "Write a python program that asks the user to enter an integer number then\n",
        "it prints its factorial\n",
        "Note: factorial(n) = n*(n-1)*(n-2)*(n-3)*(n-4).......*3*2*1"
      ]
    },
    {
      "cell_type": "code",
      "execution_count": null,
      "id": "f3e070de",
      "metadata": {
        "id": "f3e070de",
        "outputId": "89c524b2-3554-4dd6-aff2-c639a7ec590e"
      },
      "outputs": [
        {
          "name": "stdout",
          "output_type": "stream",
          "text": [
            "Please insert a numbet to count the factorial:5\n",
            "The factorial of 5 is 120.\n"
          ]
        }
      ],
      "source": [
        "# get the input from the user.\n",
        "num = int(input(\"Please insert a numbet to count the factorial:\"))\n",
        "\n",
        "fact = 1\n",
        "\n",
        "# for loop\n",
        "for i in range(1,num+1):     \n",
        "    fact = fact * i\n",
        "      \n",
        "print (f\"The factorial of {num} is {fact}.\")"
      ]
    },
    {
      "cell_type": "markdown",
      "id": "0e385cb8",
      "metadata": {
        "id": "0e385cb8"
      },
      "source": [
        "### Question 18:\n",
        "\n",
        "Write a python program that asks the user to enter two integer numbers, a and b, then it prints a power b\n",
        "Note: a power b= a *a *a .... ( b times)"
      ]
    },
    {
      "cell_type": "code",
      "execution_count": null,
      "id": "267b638f",
      "metadata": {
        "id": "267b638f",
        "outputId": "56327a46-3ebf-48ef-8fb6-e0e9619a20d0"
      },
      "outputs": [
        {
          "name": "stdout",
          "output_type": "stream",
          "text": [
            "Please a number:1\n",
            "Please a power:5\n",
            "---------------------------------------------------------------------------------\n",
            "The 1 power 5 is 1\n",
            "---------------------------------------------------------------------------------\n"
          ]
        }
      ],
      "source": [
        "# get two inputs from the user.\n",
        "a = int(input(\"Please a number:\"))\n",
        "b = int(input(\"Please a power:\"))\n",
        "\n",
        "pow = 1\n",
        "\n",
        "# for loop.\n",
        "for i in range(b):\n",
        "    pow = pow * a\n",
        "print(\"---------------------------------------------------------------------------------\")\n",
        "\n",
        "    \n",
        "print(f\"The {a} power {b} is {pow}\")\n",
        "print(\"---------------------------------------------------------------------------------\")\n"
      ]
    },
    {
      "cell_type": "markdown",
      "id": "c9bfcd6c",
      "metadata": {
        "id": "c9bfcd6c"
      },
      "source": [
        "### Thanks Dr. Zeinab."
      ]
    }
  ],
  "metadata": {
    "kernelspec": {
      "display_name": "Python 3 (ipykernel)",
      "language": "python",
      "name": "python3"
    },
    "language_info": {
      "codemirror_mode": {
        "name": "ipython",
        "version": 3
      },
      "file_extension": ".py",
      "mimetype": "text/x-python",
      "name": "python",
      "nbconvert_exporter": "python",
      "pygments_lexer": "ipython3",
      "version": "3.9.7"
    },
    "colab": {
      "provenance": [],
      "toc_visible": true,
      "include_colab_link": true
    }
  },
  "nbformat": 4,
  "nbformat_minor": 5
}