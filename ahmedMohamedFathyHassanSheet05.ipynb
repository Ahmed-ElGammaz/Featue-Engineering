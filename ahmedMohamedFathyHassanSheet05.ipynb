{
 "cells": [
  {
   "cell_type": "code",
   "execution_count": 1,
   "id": "bac07f1c",
   "metadata": {},
   "outputs": [],
   "source": [
    "#######################################"
   ]
  },
  {
   "cell_type": "code",
   "execution_count": 2,
   "id": "3a4447e6",
   "metadata": {},
   "outputs": [
    {
     "name": "stdout",
     "output_type": "stream",
     "text": [
      "120\n",
      "15\n"
     ]
    }
   ],
   "source": [
    "class Computation:\n",
    "    def __init__(self):\n",
    "        pass\n",
    "        \n",
    "    def factorial(self, num):\n",
    "        if num <= 0:\n",
    "            return 1\n",
    "        else:\n",
    "            return num * self.factorial(num-1)\n",
    "\n",
    "    def sumN(self, n):\n",
    "        return sum(range(1, n+1))\n",
    "\n",
    "computation = Computation()\n",
    "print(computation.factorial(5)) #120\n",
    "print(computation.sumN(5)) #15"
   ]
  },
  {
   "cell_type": "code",
   "execution_count": 3,
   "id": "af51796a",
   "metadata": {},
   "outputs": [
    {
     "name": "stdout",
     "output_type": "stream",
     "text": [
      "Enter the title of the book: In Search of Lost Time\n",
      "Enter the author of the book: Marcel Proust\n",
      "Enter the price of the book: 30\n",
      "Title: In Search of Lost Time\n",
      "Author: Marcel Proust\n",
      "Price: 30.0\n"
     ]
    }
   ],
   "source": [
    "class Book:\n",
    "    def __init__(self, title, author, price):\n",
    "        self.title = title\n",
    "        self.author = author\n",
    "        self.price = price\n",
    "\n",
    "    def view(self):\n",
    "        print(\"Title:\", self.title)\n",
    "        print(\"Author:\", self.author)\n",
    "        print(\"Price:\", self.price)\n",
    "\n",
    "title = input(\"Enter the title of the book: \")\n",
    "author = input(\"Enter the author of the book: \")\n",
    "price = float(input(\"Enter the price of the book: \"))\n",
    "book = Book(title, author, price)\n",
    "book.view()"
   ]
  },
  {
   "cell_type": "code",
   "execution_count": 4,
   "id": "b933741e",
   "metadata": {},
   "outputs": [
    {
     "name": "stdout",
     "output_type": "stream",
     "text": [
      "Name:  John Doe\n",
      "Age:  25\n",
      "Section:  A\n"
     ]
    }
   ],
   "source": [
    "class Person:\n",
    "    def __init__(self, name, age):\n",
    "        self.name = name\n",
    "        self.age = age\n",
    "\n",
    "    def display(self):\n",
    "        print(\"Name: \", self.name)\n",
    "        print(\"Age: \", self.age)\n",
    "\n",
    "class Student(Person):\n",
    "    def __init__(self, name, age, section):\n",
    "        super().__init__(name, age)\n",
    "        self.section = section\n",
    "\n",
    "    def displayStudent(self):\n",
    "        super().display()\n",
    "        print(\"Section: \", self.section)\n",
    "\n",
    "student = Student(\"John Doe\", 25, \"A\")\n",
    "student.displayStudent()\n"
   ]
  },
  {
   "cell_type": "code",
   "execution_count": 5,
   "id": "a0370900",
   "metadata": {},
   "outputs": [
    {
     "name": "stdout",
     "output_type": "stream",
     "text": [
      "Length: 4\n",
      "Width: 5\n",
      "Perimeter: 18\n",
      "Area: 20\n",
      "Volume: 120\n"
     ]
    }
   ],
   "source": [
    "class Rectangle:\n",
    "    def __init__(self, length, width):\n",
    "        self.length = length\n",
    "        self.width = width\n",
    "\n",
    "    def perimeter(self):\n",
    "        return 2 * (self.length + self.width)\n",
    "\n",
    "    def area(self):\n",
    "        return self.length * self.width\n",
    "\n",
    "    def display(self):\n",
    "        print(\"Length:\", self.length)\n",
    "        print(\"Width:\", self.width)\n",
    "        print(\"Perimeter:\", self.perimeter())\n",
    "        print(\"Area:\", self.area())\n",
    "\n",
    "class Parallelepiped(Rectangle):\n",
    "    def __init__(self, length, width, height):\n",
    "        super().__init__(length, width)\n",
    "        self.height = height\n",
    "\n",
    "    def volume(self):\n",
    "        return self.length * self.width * self.height\n",
    "\n",
    "parallelepiped = Parallelepiped(4, 5, 6)\n",
    "parallelepiped.display()\n",
    "print(\"Volume:\", parallelepiped.volume())\n"
   ]
  },
  {
   "cell_type": "code",
   "execution_count": 6,
   "id": "342b4fa3",
   "metadata": {},
   "outputs": [
    {
     "name": "stdout",
     "output_type": "stream",
     "text": [
      "Hello world!\n",
      "Hello again.\n",
      "True\n",
      "(1, 6)\n"
     ]
    }
   ],
   "source": [
    "class Document:\n",
    "    def __init__(self, name, content):\n",
    "        self.name = name\n",
    "        self.content = content\n",
    "\n",
    "    @classmethod\n",
    "    def create_document(cls, name):\n",
    "        return cls(name, \"\")\n",
    "\n",
    "    def append_to_document(self, text):\n",
    "        self.content += text\n",
    "\n",
    "    def read_doc(self):\n",
    "        return self.content\n",
    "\n",
    "    def is_txt_exist(self, text):\n",
    "        return text in self.content\n",
    "\n",
    "    def find_txt(self, text):\n",
    "        lines = self.content.split(\"\\n\")\n",
    "        for i, line in enumerate(lines):\n",
    "            if text in line:\n",
    "                return (i, line.index(text))\n",
    "        return -1\n",
    "\n",
    "doc = Document.create_document(\"mydoc\")\n",
    "doc.append_to_document(\"Hello world!\\nHello again.\")\n",
    "print(doc.read_doc())\n",
    "print(doc.is_txt_exist(\"world\"))\n",
    "print(doc.find_txt(\"again\"))"
   ]
  },
  {
   "cell_type": "code",
   "execution_count": null,
   "id": "5b502cdb",
   "metadata": {},
   "outputs": [],
   "source": [
    "###########################################"
   ]
  }
 ],
 "metadata": {
  "kernelspec": {
   "display_name": "Python 3 (ipykernel)",
   "language": "python",
   "name": "python3"
  },
  "language_info": {
   "codemirror_mode": {
    "name": "ipython",
    "version": 3
   },
   "file_extension": ".py",
   "mimetype": "text/x-python",
   "name": "python",
   "nbconvert_exporter": "python",
   "pygments_lexer": "ipython3",
   "version": "3.9.7"
  }
 },
 "nbformat": 4,
 "nbformat_minor": 5
}
