{
 "cells": [
  {
   "cell_type": "code",
   "execution_count": null,
   "id": "a37f7fa8",
   "metadata": {},
   "outputs": [],
   "source": [
    "###############################"
   ]
  },
  {
   "cell_type": "code",
   "execution_count": 3,
   "id": "c26786f2",
   "metadata": {},
   "outputs": [
    {
     "name": "stdout",
     "output_type": "stream",
     "text": [
      "Enter an alphabet: a\n",
      "a is a Vowel\n"
     ]
    }
   ],
   "source": [
    "def check_vowel_consonant(alphabet):\n",
    "    vowels = ['a', 'e', 'i', 'o', 'u']\n",
    "    if alphabet in vowels:\n",
    "        return \"Vowel\"\n",
    "    else:\n",
    "        return \"Consonant\"\n",
    "\n",
    "alphabet = input(\"Enter an alphabet: \")\n",
    "if alphabet.isalpha() and len(alphabet)==1:\n",
    "    print(alphabet, \"is a\", check_vowel_consonant(alphabet))\n",
    "else:\n",
    "    print(\"Enter a valid alphabet\")"
   ]
  },
  {
   "cell_type": "code",
   "execution_count": 4,
   "id": "0c6820f6",
   "metadata": {},
   "outputs": [
    {
     "name": "stdout",
     "output_type": "stream",
     "text": [
      "Enter a number: 5\n",
      "5 is Odd\n"
     ]
    }
   ],
   "source": [
    "def check_even_odd(num):\n",
    "    if num % 2 == 0:\n",
    "        return \"Even\"\n",
    "    else:\n",
    "        return \"Odd\"\n",
    "\n",
    "num = input(\"Enter a number: \")\n",
    "if num.isnumeric():\n",
    "    num = int(num)\n",
    "    print(num, \"is\", check_even_odd(num))\n",
    "else:\n",
    "    print(\"Enter a valid number\")"
   ]
  },
  {
   "cell_type": "code",
   "execution_count": 5,
   "id": "43c8ea66",
   "metadata": {},
   "outputs": [
    {
     "name": "stdout",
     "output_type": "stream",
     "text": [
      "Enter a character: d\n",
      "d is a Alphabet\n"
     ]
    }
   ],
   "source": [
    "import re\n",
    "\n",
    "def check_char_type(c):\n",
    "    if c.isalpha():\n",
    "        return \"Alphabet\"\n",
    "    elif c.isnumeric():\n",
    "        return \"Digit\"\n",
    "    elif re.search(\"[!@#$%^&*(),.?\\\":{}|<>]\",c):\n",
    "        return \"Special Character\"\n",
    "    else:\n",
    "        return \"Invalid Input\"\n",
    "\n",
    "c = input(\"Enter a character: \")\n",
    "\n",
    "if len(c) == 1:\n",
    "    print(f\"{c} is a {check_char_type(c)}\")\n",
    "else:\n",
    "    print(\"Enter a valid character\")"
   ]
  },
  {
   "cell_type": "code",
   "execution_count": 6,
   "id": "bb093dbf",
   "metadata": {},
   "outputs": [
    {
     "name": "stdout",
     "output_type": "stream",
     "text": [
      "Enter the file path: C:/Users/egypt/OneDrive/سطح المكتب/newfile.txt\n",
      "Number of palindromic words: 0\n"
     ]
    }
   ],
   "source": [
    "def count_palindromes(filepath):\n",
    "    palindrome_count = 0\n",
    "    with open(filepath, 'r') as f:\n",
    "        for line in f:\n",
    "            words = line.strip().split()\n",
    "            for word in words:\n",
    "                if word == word[::-1]:\n",
    "                    palindrome_count += 1\n",
    "    return palindrome_count\n",
    "\n",
    "filepath = input(\"Enter the file path: \")\n",
    "print(\"Number of palindromic words:\", count_palindromes(filepath))"
   ]
  },
  {
   "cell_type": "code",
   "execution_count": 7,
   "id": "75530da2",
   "metadata": {},
   "outputs": [
    {
     "name": "stdout",
     "output_type": "stream",
     "text": [
      "Enter the file path: C:/Users/egypt/OneDrive/سطح المكتب/newfile.txt\n",
      "Number of vowels: 0\n",
      "Number of consonants: 0\n"
     ]
    }
   ],
   "source": [
    "def count_vowels_consonants(filepath):\n",
    "    vowels = ['a', 'e', 'i', 'o', 'u']\n",
    "    vowel_count = 0\n",
    "    consonant_count = 0\n",
    "    with open(filepath, 'r') as f:\n",
    "        content = f.read()\n",
    "        for c in content:\n",
    "            if c.isalpha():\n",
    "                if c.lower() in vowels:\n",
    "                    vowel_count += 1\n",
    "                else:\n",
    "                    consonant_count += 1\n",
    "    return vowel_count, consonant_count\n",
    "\n",
    "filepath = input(\"Enter the file path: \")\n",
    "vowel_count, consonant_count = count_vowels_consonants(filepath)\n",
    "print(\"Number of vowels:\", vowel_count)\n",
    "print(\"Number of consonants:\", consonant_count)"
   ]
  },
  {
   "cell_type": "code",
   "execution_count": null,
   "id": "9b3071e1",
   "metadata": {},
   "outputs": [],
   "source": [
    "############################"
   ]
  }
 ],
 "metadata": {
  "kernelspec": {
   "display_name": "Python 3 (ipykernel)",
   "language": "python",
   "name": "python3"
  },
  "language_info": {
   "codemirror_mode": {
    "name": "ipython",
    "version": 3
   },
   "file_extension": ".py",
   "mimetype": "text/x-python",
   "name": "python",
   "nbconvert_exporter": "python",
   "pygments_lexer": "ipython3",
   "version": "3.9.7"
  }
 },
 "nbformat": 4,
 "nbformat_minor": 5
}
